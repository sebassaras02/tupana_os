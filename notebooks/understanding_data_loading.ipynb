{
 "cells": [
  {
   "cell_type": "markdown",
   "metadata": {},
   "source": [
    "# MVP\n",
    "\n",
    "Startup: Isearch\n",
    "\n",
    "Done by: Sebastian Sarasti\n",
    "\n",
    "This notebook aims to be a guide of how to build a elastic search engine to search into different documents."
   ]
  },
  {
   "cell_type": "markdown",
   "metadata": {},
   "source": [
    "## Data loading"
   ]
  },
  {
   "cell_type": "code",
   "execution_count": 1,
   "metadata": {},
   "outputs": [],
   "source": [
    "from langchain.vectorstores import Chroma"
   ]
  },
  {
   "cell_type": "markdown",
   "metadata": {},
   "source": [
    "Load all pdfs from the data folder, show a progress bar, and use all threads available"
   ]
  },
  {
   "cell_type": "code",
   "execution_count": 2,
   "metadata": {},
   "outputs": [],
   "source": [
    "from langchain.document_loaders import PyPDFLoader, DirectoryLoader"
   ]
  },
  {
   "cell_type": "code",
   "execution_count": 3,
   "metadata": {},
   "outputs": [],
   "source": [
    "loader = DirectoryLoader('../data/', '**/*.pdf', loader_cls=PyPDFLoader, use_multithreading=True)\n",
    "docs = loader.load()"
   ]
  },
  {
   "cell_type": "code",
   "execution_count": 4,
   "metadata": {},
   "outputs": [],
   "source": [
    "from langchain.document_loaders import Docx2txtLoader, UnstructuredWordDocumentLoader"
   ]
  },
  {
   "cell_type": "code",
   "execution_count": 7,
   "metadata": {},
   "outputs": [],
   "source": [
    "word_loader = DirectoryLoader(loader_cls = UnstructuredWordDocumentLoader, loader_kwargs={'mode': 'elements'}, path='../data/', glob='**/*.docx', use_multithreading=True)\n",
    "word_docs = word_loader.load()"
   ]
  },
  {
   "cell_type": "code",
   "execution_count": 8,
   "metadata": {},
   "outputs": [
    {
     "data": {
      "text/plain": [
       "[Document(page_content='Actividad 1:  Software y ejemplo de caso de prueba con simple-ai en Python', metadata={'source': '..\\\\data\\\\carpeta3\\\\mia_rpa_#1_solucion.docx', 'filename': 'mia_rpa_#1_solucion.docx', 'file_directory': '..\\\\data\\\\carpeta3', 'last_modified': '2023-10-27T22:32:51', 'filetype': 'application/vnd.openxmlformats-officedocument.wordprocessingml.document', 'category_depth': 0, 'languages': ['spa'], 'page_number': 1, 'category': 'UncategorizedText'}),\n",
       " Document(page_content='ESTUDIANTES:', metadata={'source': '..\\\\data\\\\carpeta3\\\\mia_rpa_#1_solucion.docx', 'filename': 'mia_rpa_#1_solucion.docx', 'file_directory': '..\\\\data\\\\carpeta3', 'last_modified': '2023-10-27T22:32:51', 'filetype': 'application/vnd.openxmlformats-officedocument.wordprocessingml.document', 'category_depth': 0, 'languages': ['spa'], 'page_number': 1, 'emphasized_text_contents': ['ESTUDIANTES', 'ESTUDIANTES'], 'emphasized_text_tags': ['b', 'i'], 'category': 'UncategorizedText'}),\n",
       " Document(page_content='Sebastián Sarasti', metadata={'source': '..\\\\data\\\\carpeta3\\\\mia_rpa_#1_solucion.docx', 'filename': 'mia_rpa_#1_solucion.docx', 'file_directory': '..\\\\data\\\\carpeta3', 'last_modified': '2023-10-27T22:32:51', 'filetype': 'application/vnd.openxmlformats-officedocument.wordprocessingml.document', 'category_depth': 0, 'languages': ['spa'], 'page_number': 1, 'category': 'ListItem'}),\n",
       " Document(page_content='Jimmy Bersoza', metadata={'source': '..\\\\data\\\\carpeta3\\\\mia_rpa_#1_solucion.docx', 'filename': 'mia_rpa_#1_solucion.docx', 'file_directory': '..\\\\data\\\\carpeta3', 'last_modified': '2023-10-27T22:32:51', 'filetype': 'application/vnd.openxmlformats-officedocument.wordprocessingml.document', 'category_depth': 0, 'languages': ['spa'], 'page_number': 1, 'category': 'ListItem'}),\n",
       " Document(page_content='Anderson Meza', metadata={'source': '..\\\\data\\\\carpeta3\\\\mia_rpa_#1_solucion.docx', 'filename': 'mia_rpa_#1_solucion.docx', 'file_directory': '..\\\\data\\\\carpeta3', 'last_modified': '2023-10-27T22:32:51', 'filetype': 'application/vnd.openxmlformats-officedocument.wordprocessingml.document', 'category_depth': 0, 'languages': ['spa'], 'page_number': 1, 'category': 'ListItem'}),\n",
       " Document(page_content='Solución ', metadata={'source': '..\\\\data\\\\carpeta3\\\\mia_rpa_#1_solucion.docx', 'filename': 'mia_rpa_#1_solucion.docx', 'file_directory': '..\\\\data\\\\carpeta3', 'last_modified': '2023-10-27T22:32:51', 'filetype': 'application/vnd.openxmlformats-officedocument.wordprocessingml.document', 'category_depth': 0, 'languages': ['spa'], 'page_number': 1, 'emphasized_text_contents': ['Solución', 'Solución'], 'emphasized_text_tags': ['b', 'i'], 'category': 'Title'}),\n",
       " Document(page_content='Apartado A', metadata={'source': '..\\\\data\\\\carpeta3\\\\mia_rpa_#1_solucion.docx', 'filename': 'mia_rpa_#1_solucion.docx', 'file_directory': '..\\\\data\\\\carpeta3', 'last_modified': '2023-10-27T22:32:51', 'filetype': 'application/vnd.openxmlformats-officedocument.wordprocessingml.document', 'category_depth': 0, 'languages': ['spa'], 'page_number': 1, 'emphasized_text_contents': ['Apartado A'], 'emphasized_text_tags': ['b'], 'category': 'Title'}),\n",
       " Document(page_content='Mapa Inicial', metadata={'source': '..\\\\data\\\\carpeta3\\\\mia_rpa_#1_solucion.docx', 'filename': 'mia_rpa_#1_solucion.docx', 'file_directory': '..\\\\data\\\\carpeta3', 'last_modified': '2023-10-27T22:32:51', 'filetype': 'application/vnd.openxmlformats-officedocument.wordprocessingml.document', 'category_depth': 0, 'languages': ['spa'], 'page_number': 1, 'emphasized_text_contents': ['Mapa Inicial'], 'emphasized_text_tags': ['b'], 'category': 'Title'}),\n",
       " Document(page_content='#    #    #    #    #    #    #    #\\n#                        T         #\\n#         #    #    #    #         #\\n#                   P    #         #\\n#         #    #                   #\\n#                                  #\\n#    #    #    #    #    #    #    #', metadata={'source': '..\\\\data\\\\carpeta3\\\\mia_rpa_#1_solucion.docx', 'filename': 'mia_rpa_#1_solucion.docx', 'file_directory': '..\\\\data\\\\carpeta3', 'last_modified': '2023-10-27T22:32:51', 'filetype': 'application/vnd.openxmlformats-officedocument.wordprocessingml.document', 'parent_id': '333991aba1dce491b50e4fa02ccf7411', 'languages': ['spa'], 'page_number': 1, 'text_as_html': '<table>\\n<thead>\\n<tr><th>#  </th><th>#  </th><th>#  </th><th>#  </th><th>#  </th><th>#  </th><th>#  </th><th>#  </th></tr>\\n</thead>\\n<tbody>\\n<tr><td>#  </td><td>   </td><td>   </td><td>   </td><td>   </td><td>T  </td><td>   </td><td>#  </td></tr>\\n<tr><td>#  </td><td>   </td><td>#  </td><td>#  </td><td>#  </td><td>#  </td><td>   </td><td>#  </td></tr>\\n<tr><td>#  </td><td>   </td><td>   </td><td>   </td><td>P  </td><td>#  </td><td>   </td><td>#  </td></tr>\\n<tr><td>#  </td><td>   </td><td>#  </td><td>#  </td><td>   </td><td>   </td><td>   </td><td>#  </td></tr>\\n<tr><td>#  </td><td>   </td><td>   </td><td>   </td><td>   </td><td>   </td><td>   </td><td>#  </td></tr>\\n<tr><td>#  </td><td>#  </td><td>#  </td><td>#  </td><td>#  </td><td>#  </td><td>#  </td><td>#  </td></tr>\\n</tbody>\\n</table>', 'category': 'Table'}),\n",
       " Document(page_content='Movimientos:', metadata={'source': '..\\\\data\\\\carpeta3\\\\mia_rpa_#1_solucion.docx', 'filename': 'mia_rpa_#1_solucion.docx', 'file_directory': '..\\\\data\\\\carpeta3', 'last_modified': '2023-10-27T22:32:51', 'filetype': 'application/vnd.openxmlformats-officedocument.wordprocessingml.document', 'category_depth': 0, 'languages': ['spa'], 'page_number': 1, 'emphasized_text_contents': ['Movimientos:', 'Movimientos:'], 'emphasized_text_tags': ['b', 'i'], 'category': 'Title'}),\n",
       " Document(page_content='Búsqueda por amplitud', metadata={'source': '..\\\\data\\\\carpeta3\\\\mia_rpa_#1_solucion.docx', 'filename': 'mia_rpa_#1_solucion.docx', 'file_directory': '..\\\\data\\\\carpeta3', 'last_modified': '2023-10-27T22:32:51', 'filetype': 'application/vnd.openxmlformats-officedocument.wordprocessingml.document', 'category_depth': 0, 'languages': ['spa'], 'page_number': 1, 'emphasized_text_contents': ['Búsqueda por amplitud', 'Búsqueda por amplitud'], 'emphasized_text_tags': ['b', 'i'], 'category': 'Title'}),\n",
       " Document(page_content=\"Secuencia de movimientos para alcanzar la meta: [(None, (5, 1)), ('right', (6, 1)), ('down', (6, 2)), ('down', (6, 3)), ('down', (6, 4)), ('left', (5, 4)), ('left', (4, 4)), ('up', (4, 3))]\", metadata={'source': '..\\\\data\\\\carpeta3\\\\mia_rpa_#1_solucion.docx', 'filename': 'mia_rpa_#1_solucion.docx', 'file_directory': '..\\\\data\\\\carpeta3', 'last_modified': '2023-10-27T22:32:51', 'filetype': 'application/vnd.openxmlformats-officedocument.wordprocessingml.document', 'parent_id': '8908b614aaab8bade04651ee1ed0c33f', 'category_depth': 0, 'languages': ['spa'], 'page_number': 1, 'category': 'UncategorizedText'}),\n",
       " Document(page_content='Búsqueda por profundidad', metadata={'source': '..\\\\data\\\\carpeta3\\\\mia_rpa_#1_solucion.docx', 'filename': 'mia_rpa_#1_solucion.docx', 'file_directory': '..\\\\data\\\\carpeta3', 'last_modified': '2023-10-27T22:32:51', 'filetype': 'application/vnd.openxmlformats-officedocument.wordprocessingml.document', 'category_depth': 0, 'languages': ['spa'], 'page_number': 1, 'emphasized_text_contents': ['Búsqueda por profundidad', 'Búsqueda por profundidad'], 'emphasized_text_tags': ['b', 'i'], 'category': 'Title'}),\n",
       " Document(page_content=\"Secuencia de movimientos para alcanzar la meta: [(None, (5, 1)), ('left', (4, 1)), ('left', (3, 1)), ('left', (2, 1)), ('left', (1, 1)), ('down', (1, 2)), ('down', (1, 3)), ('right', (2, 3)), ('right', (3,\", metadata={'source': '..\\\\data\\\\carpeta3\\\\mia_rpa_#1_solucion.docx', 'filename': 'mia_rpa_#1_solucion.docx', 'file_directory': '..\\\\data\\\\carpeta3', 'last_modified': '2023-10-27T22:32:51', 'filetype': 'application/vnd.openxmlformats-officedocument.wordprocessingml.document', 'parent_id': '694e6f0abfe0a51d8aaef3a9a382c78f', 'category_depth': 0, 'languages': ['spa'], 'page_number': 1, 'category': 'UncategorizedText'}),\n",
       " Document(page_content=\" 3)), ('right', (4, 3))]\", metadata={'source': '..\\\\data\\\\carpeta3\\\\mia_rpa_#1_solucion.docx', 'filename': 'mia_rpa_#1_solucion.docx', 'file_directory': '..\\\\data\\\\carpeta3', 'last_modified': '2023-10-27T22:32:51', 'filetype': 'application/vnd.openxmlformats-officedocument.wordprocessingml.document', 'parent_id': '694e6f0abfe0a51d8aaef3a9a382c78f', 'category_depth': 0, 'languages': ['spa'], 'page_number': 1, 'category': 'UncategorizedText'}),\n",
       " Document(page_content='Búsqueda A* con distancia Euclídea como heurística', metadata={'source': '..\\\\data\\\\carpeta3\\\\mia_rpa_#1_solucion.docx', 'filename': 'mia_rpa_#1_solucion.docx', 'file_directory': '..\\\\data\\\\carpeta3', 'last_modified': '2023-10-27T22:32:51', 'filetype': 'application/vnd.openxmlformats-officedocument.wordprocessingml.document', 'category_depth': 0, 'languages': ['spa'], 'page_number': 1, 'emphasized_text_contents': ['Búsqueda A* con distancia Euclídea como heurística', 'Búsqueda A* con distancia Euclídea como heurística'], 'emphasized_text_tags': ['b', 'i'], 'category': 'Title'}),\n",
       " Document(page_content=\"Secuencia de movimientos para alcanzar la meta: [(None, (5, 1)), ('right', (6, 1)), ('down', (6, 2)), ('down', (6, 3)), ('down', (6, 4)), ('left', (5, 4)), ('left', (4, 4)), ('up', (4, 3))]\", metadata={'source': '..\\\\data\\\\carpeta3\\\\mia_rpa_#1_solucion.docx', 'filename': 'mia_rpa_#1_solucion.docx', 'file_directory': '..\\\\data\\\\carpeta3', 'last_modified': '2023-10-27T22:32:51', 'filetype': 'application/vnd.openxmlformats-officedocument.wordprocessingml.document', 'parent_id': '1569def12f51bba9791e2a4d7edc29cb', 'category_depth': 0, 'languages': ['spa'], 'page_number': 1, 'category': 'UncategorizedText'}),\n",
       " Document(page_content='Búsqueda A* con distancia Manhattan como heurística', metadata={'source': '..\\\\data\\\\carpeta3\\\\mia_rpa_#1_solucion.docx', 'filename': 'mia_rpa_#1_solucion.docx', 'file_directory': '..\\\\data\\\\carpeta3', 'last_modified': '2023-10-27T22:32:51', 'filetype': 'application/vnd.openxmlformats-officedocument.wordprocessingml.document', 'category_depth': 0, 'languages': ['spa'], 'page_number': 1, 'emphasized_text_contents': ['Búsqueda A* con distancia Manhattan como heurística', 'Búsqueda A* con distancia Manhattan como heurística'], 'emphasized_text_tags': ['b', 'i'], 'category': 'Title'}),\n",
       " Document(page_content=\"Secuencia de movimientos para alcanzar la meta:: [(None, (5, 1)), ('right', (6, 1)), ('down', (6, 2)), ('down', (6, 3)), ('down', (6, 4)), ('left', (5, 4)), ('left', (4, 4)), ('up', (4, 3))]\", metadata={'source': '..\\\\data\\\\carpeta3\\\\mia_rpa_#1_solucion.docx', 'filename': 'mia_rpa_#1_solucion.docx', 'file_directory': '..\\\\data\\\\carpeta3', 'last_modified': '2023-10-27T22:32:51', 'filetype': 'application/vnd.openxmlformats-officedocument.wordprocessingml.document', 'parent_id': '4f2fa8bb6e0b24500735305c51a29884', 'category_depth': 0, 'languages': ['spa'], 'page_number': 1, 'category': 'UncategorizedText'}),\n",
       " Document(page_content='Tabla 1. Resumen de los resultados del mapa anterior para cada algoritmo de búsqueda', metadata={'source': '..\\\\data\\\\carpeta3\\\\mia_rpa_#1_solucion.docx', 'filename': 'mia_rpa_#1_solucion.docx', 'file_directory': '..\\\\data\\\\carpeta3', 'last_modified': '2023-10-27T22:32:51', 'filetype': 'application/vnd.openxmlformats-officedocument.wordprocessingml.document', 'parent_id': '4f2fa8bb6e0b24500735305c51a29884', 'category_depth': 0, 'languages': ['spa'], 'page_number': 1, 'emphasized_text_contents': ['Tabla 1.'], 'emphasized_text_tags': ['b'], 'category': 'UncategorizedText'}),\n",
       " Document(page_content='', metadata={'source': '..\\\\data\\\\carpeta3\\\\mia_rpa_#1_solucion.docx', 'filename': 'mia_rpa_#1_solucion.docx', 'file_directory': '..\\\\data\\\\carpeta3', 'filetype': 'application/vnd.openxmlformats-officedocument.wordprocessingml.document', 'languages': ['spa'], 'category': 'PageBreak'}),\n",
       " Document(page_content='Ejemplo 1                                     Longitud solución    Coste solución    Nodos visitados\\nAmplitud                                                      8                 7                 17\\nProfundidad                                                  10                 9                 10\\nA* con distancia Euclídea como Heurística                     8                 7                 11\\nA* con distancia Manhattan como Heurística                    8                 7                 11', metadata={'source': '..\\\\data\\\\carpeta3\\\\mia_rpa_#1_solucion.docx', 'filename': 'mia_rpa_#1_solucion.docx', 'file_directory': '..\\\\data\\\\carpeta3', 'last_modified': '2023-10-27T22:32:51', 'filetype': 'application/vnd.openxmlformats-officedocument.wordprocessingml.document', 'languages': ['spa'], 'page_number': 2, 'emphasized_text_contents': ['Ejemplo 1', 'Longitud solución', 'Coste solución', 'Nodos visitados', 'Amplitud', 'Profundidad', 'A* con distancia Euclídea como Heurística', 'A* con distancia Manhattan como Heurística'], 'emphasized_text_tags': ['b', 'b', 'b', 'b', 'b', 'b', 'b', 'b'], 'text_as_html': '<table>\\n<thead>\\n<tr><th>Ejemplo 1                                 </th><th style=\"text-align: right;\">  Longitud solución</th><th style=\"text-align: right;\">  Coste solución</th><th style=\"text-align: right;\">  Nodos visitados</th></tr>\\n</thead>\\n<tbody>\\n<tr><td>Amplitud                                  </td><td style=\"text-align: right;\">                  8</td><td style=\"text-align: right;\">               7</td><td style=\"text-align: right;\">               17</td></tr>\\n<tr><td>Profundidad                               </td><td style=\"text-align: right;\">                 10</td><td style=\"text-align: right;\">               9</td><td style=\"text-align: right;\">               10</td></tr>\\n<tr><td>A* con distancia Euclídea como Heurística </td><td style=\"text-align: right;\">                  8</td><td style=\"text-align: right;\">               7</td><td style=\"text-align: right;\">               11</td></tr>\\n<tr><td>A* con distancia Manhattan como Heurística</td><td style=\"text-align: right;\">                  8</td><td style=\"text-align: right;\">               7</td><td style=\"text-align: right;\">               11</td></tr>\\n</tbody>\\n</table>', 'category': 'Table'}),\n",
       " Document(page_content='En este caso al tener un mismo coste por cada movimiento, la longitud y el coste de la solución tienen correlación, mientras que el número de nodos visitados depende del algoritmo utilizado. Comparando los valores de cada algoritmo el óptimo es el A* con cualquier heurística dado que tiene el coste más bajo. Además, el número de nodos visitados es más bajo que el algoritmo de amplitud que tiene el mismo costo de solución. La razón de que el A* sea el óptimo en este caso se debe a que en principio recorre los mismos nodos que el algoritmo de amplitud, llega un punto en el que por la heurística tiene una información extra por donde seguir y ahorrar tiempo de recorrer más nodos.', metadata={'source': '..\\\\data\\\\carpeta3\\\\mia_rpa_#1_solucion.docx', 'filename': 'mia_rpa_#1_solucion.docx', 'file_directory': '..\\\\data\\\\carpeta3', 'last_modified': '2023-10-27T22:32:51', 'filetype': 'application/vnd.openxmlformats-officedocument.wordprocessingml.document', 'category_depth': 0, 'languages': ['spa'], 'page_number': 2, 'category': 'NarrativeText'}),\n",
       " Document(page_content='Apartado B', metadata={'source': '..\\\\data\\\\carpeta3\\\\mia_rpa_#1_solucion.docx', 'filename': 'mia_rpa_#1_solucion.docx', 'file_directory': '..\\\\data\\\\carpeta3', 'last_modified': '2023-10-27T22:32:51', 'filetype': 'application/vnd.openxmlformats-officedocument.wordprocessingml.document', 'category_depth': 0, 'languages': ['spa'], 'page_number': 2, 'emphasized_text_contents': ['Apartado B'], 'emphasized_text_tags': ['b'], 'category': 'Title'}),\n",
       " Document(page_content='', metadata={'source': '..\\\\data\\\\carpeta3\\\\mia_rpa_#1_solucion.docx', 'filename': 'mia_rpa_#1_solucion.docx', 'file_directory': '..\\\\data\\\\carpeta3', 'filetype': 'application/vnd.openxmlformats-officedocument.wordprocessingml.document', 'languages': ['spa'], 'category': 'PageBreak'}),\n",
       " Document(page_content='Mapa Inicial', metadata={'source': '..\\\\data\\\\carpeta3\\\\mia_rpa_#1_solucion.docx', 'filename': 'mia_rpa_#1_solucion.docx', 'file_directory': '..\\\\data\\\\carpeta3', 'last_modified': '2023-10-27T22:32:51', 'filetype': 'application/vnd.openxmlformats-officedocument.wordprocessingml.document', 'category_depth': 0, 'languages': ['spa'], 'page_number': 3, 'emphasized_text_contents': ['Mapa Inicial'], 'emphasized_text_tags': ['b'], 'category': 'Title'}),\n",
       " Document(page_content='#    #    #    #    #    #    #    #\\n#    P                   T         #\\n#         #    #    #    #         #\\n#                        #         #\\n#         #    #                   #\\n#                                  #\\n#    #    #    #    #    #    #    #', metadata={'source': '..\\\\data\\\\carpeta3\\\\mia_rpa_#1_solucion.docx', 'filename': 'mia_rpa_#1_solucion.docx', 'file_directory': '..\\\\data\\\\carpeta3', 'last_modified': '2023-10-27T22:32:51', 'filetype': 'application/vnd.openxmlformats-officedocument.wordprocessingml.document', 'parent_id': '333991aba1dce491b50e4fa02ccf7411', 'languages': ['spa'], 'page_number': 3, 'text_as_html': '<table>\\n<thead>\\n<tr><th>#  </th><th>#  </th><th>#  </th><th>#  </th><th>#  </th><th>#  </th><th>#  </th><th>#  </th></tr>\\n</thead>\\n<tbody>\\n<tr><td>#  </td><td>P  </td><td>   </td><td>   </td><td>   </td><td>T  </td><td>   </td><td>#  </td></tr>\\n<tr><td>#  </td><td>   </td><td>#  </td><td>#  </td><td>#  </td><td>#  </td><td>   </td><td>#  </td></tr>\\n<tr><td>#  </td><td>   </td><td>   </td><td>   </td><td>   </td><td>#  </td><td>   </td><td>#  </td></tr>\\n<tr><td>#  </td><td>   </td><td>#  </td><td>#  </td><td>   </td><td>   </td><td>   </td><td>#  </td></tr>\\n<tr><td>#  </td><td>   </td><td>   </td><td>   </td><td>   </td><td>   </td><td>   </td><td>#  </td></tr>\\n<tr><td>#  </td><td>#  </td><td>#  </td><td>#  </td><td>#  </td><td>#  </td><td>#  </td><td>#  </td></tr>\\n</tbody>\\n</table>', 'category': 'Table'}),\n",
       " Document(page_content='Movimientos:', metadata={'source': '..\\\\data\\\\carpeta3\\\\mia_rpa_#1_solucion.docx', 'filename': 'mia_rpa_#1_solucion.docx', 'file_directory': '..\\\\data\\\\carpeta3', 'last_modified': '2023-10-27T22:32:51', 'filetype': 'application/vnd.openxmlformats-officedocument.wordprocessingml.document', 'category_depth': 0, 'languages': ['spa'], 'page_number': 3, 'emphasized_text_contents': ['Movimientos:'], 'emphasized_text_tags': ['b'], 'category': 'Title'}),\n",
       " Document(page_content='Búsqueda por amplitud', metadata={'source': '..\\\\data\\\\carpeta3\\\\mia_rpa_#1_solucion.docx', 'filename': 'mia_rpa_#1_solucion.docx', 'file_directory': '..\\\\data\\\\carpeta3', 'last_modified': '2023-10-27T22:32:51', 'filetype': 'application/vnd.openxmlformats-officedocument.wordprocessingml.document', 'category_depth': 0, 'languages': ['spa'], 'page_number': 3, 'emphasized_text_contents': ['Búsqueda por amplitud', 'Búsqueda por amplitud'], 'emphasized_text_tags': ['b', 'i'], 'category': 'Title'}),\n",
       " Document(page_content=\"Secuencia de movimientos para alcanzar la meta: [(None, (5, 1)), ('left', (4, 1)), ('left', (3, 1)), ('left', (2, 1)), ('left', (1, 1))]\", metadata={'source': '..\\\\data\\\\carpeta3\\\\mia_rpa_#1_solucion.docx', 'filename': 'mia_rpa_#1_solucion.docx', 'file_directory': '..\\\\data\\\\carpeta3', 'last_modified': '2023-10-27T22:32:51', 'filetype': 'application/vnd.openxmlformats-officedocument.wordprocessingml.document', 'parent_id': '8908b614aaab8bade04651ee1ed0c33f', 'category_depth': 0, 'languages': ['spa'], 'page_number': 3, 'category': 'UncategorizedText'}),\n",
       " Document(page_content='Búsqueda por profundidad', metadata={'source': '..\\\\data\\\\carpeta3\\\\mia_rpa_#1_solucion.docx', 'filename': 'mia_rpa_#1_solucion.docx', 'file_directory': '..\\\\data\\\\carpeta3', 'last_modified': '2023-10-27T22:32:51', 'filetype': 'application/vnd.openxmlformats-officedocument.wordprocessingml.document', 'category_depth': 0, 'languages': ['spa'], 'page_number': 3, 'emphasized_text_contents': ['Búsqueda por profundidad', 'Búsqueda por profundidad'], 'emphasized_text_tags': ['b', 'i'], 'category': 'Title'}),\n",
       " Document(page_content=\"Secuencia de movimientos para alcanzar la meta: [(None, (5, 1)), ('left', (4, 1)), ('left', (3, 1)), ('left', (2, 1)), ('left', (1, 1))]\", metadata={'source': '..\\\\data\\\\carpeta3\\\\mia_rpa_#1_solucion.docx', 'filename': 'mia_rpa_#1_solucion.docx', 'file_directory': '..\\\\data\\\\carpeta3', 'last_modified': '2023-10-27T22:32:51', 'filetype': 'application/vnd.openxmlformats-officedocument.wordprocessingml.document', 'parent_id': '694e6f0abfe0a51d8aaef3a9a382c78f', 'category_depth': 0, 'languages': ['spa'], 'page_number': 3, 'category': 'UncategorizedText'}),\n",
       " Document(page_content='Búsqueda A* con distancia Euclídea como heurística', metadata={'source': '..\\\\data\\\\carpeta3\\\\mia_rpa_#1_solucion.docx', 'filename': 'mia_rpa_#1_solucion.docx', 'file_directory': '..\\\\data\\\\carpeta3', 'last_modified': '2023-10-27T22:32:51', 'filetype': 'application/vnd.openxmlformats-officedocument.wordprocessingml.document', 'category_depth': 0, 'languages': ['spa'], 'page_number': 3, 'emphasized_text_contents': ['Búsqueda A* con distancia Euclídea como heurística', 'Búsqueda A* con distancia Euclídea como heurística'], 'emphasized_text_tags': ['b', 'i'], 'category': 'Title'}),\n",
       " Document(page_content=\"Secuencia de movimientos para alcanzar la meta: [(None, (5, 1)), ('left', (4, 1)), ('left', (3, 1)), ('left', (2, 1)), ('left', (1, 1))]\", metadata={'source': '..\\\\data\\\\carpeta3\\\\mia_rpa_#1_solucion.docx', 'filename': 'mia_rpa_#1_solucion.docx', 'file_directory': '..\\\\data\\\\carpeta3', 'last_modified': '2023-10-27T22:32:51', 'filetype': 'application/vnd.openxmlformats-officedocument.wordprocessingml.document', 'parent_id': '1569def12f51bba9791e2a4d7edc29cb', 'category_depth': 0, 'languages': ['spa'], 'page_number': 3, 'category': 'UncategorizedText'}),\n",
       " Document(page_content='Búsqueda A* con distancia Manhattan como heurística', metadata={'source': '..\\\\data\\\\carpeta3\\\\mia_rpa_#1_solucion.docx', 'filename': 'mia_rpa_#1_solucion.docx', 'file_directory': '..\\\\data\\\\carpeta3', 'last_modified': '2023-10-27T22:32:51', 'filetype': 'application/vnd.openxmlformats-officedocument.wordprocessingml.document', 'category_depth': 0, 'languages': ['spa'], 'page_number': 3, 'emphasized_text_contents': ['Búsqueda A* con distancia Manhattan como heurística', 'Búsqueda A* con distancia Manhattan como heurística'], 'emphasized_text_tags': ['b', 'i'], 'category': 'Title'}),\n",
       " Document(page_content=\"Secuencia de movimientos para alcanzar la meta: [(None, (5, 1)), ('left', (4, 1)), ('left', (3, 1)), ('left', (2, 1)), ('left', (1, 1))]\", metadata={'source': '..\\\\data\\\\carpeta3\\\\mia_rpa_#1_solucion.docx', 'filename': 'mia_rpa_#1_solucion.docx', 'file_directory': '..\\\\data\\\\carpeta3', 'last_modified': '2023-10-27T22:32:51', 'filetype': 'application/vnd.openxmlformats-officedocument.wordprocessingml.document', 'parent_id': '4f2fa8bb6e0b24500735305c51a29884', 'category_depth': 0, 'languages': ['spa'], 'page_number': 3, 'category': 'UncategorizedText'}),\n",
       " Document(page_content='Tabla 2. Resumen de los resultados del mapa anterior para cada algoritmo de búsqueda', metadata={'source': '..\\\\data\\\\carpeta3\\\\mia_rpa_#1_solucion.docx', 'filename': 'mia_rpa_#1_solucion.docx', 'file_directory': '..\\\\data\\\\carpeta3', 'last_modified': '2023-10-27T22:32:51', 'filetype': 'application/vnd.openxmlformats-officedocument.wordprocessingml.document', 'parent_id': '4f2fa8bb6e0b24500735305c51a29884', 'category_depth': 0, 'languages': ['spa'], 'page_number': 3, 'emphasized_text_contents': ['Tabla 2.'], 'emphasized_text_tags': ['b'], 'category': 'UncategorizedText'}),\n",
       " Document(page_content='Ejemplo 2                                     Longitud solución    Coste solución    Nodos visitados\\nAmplitud                                                      5                 4                  9\\nProfundidad                                                   5                 4                  5\\nA* con distancia Euclídea como Heurística                     5                 4                  5\\nA* con distancia Manhattan como Heurística                    5                 4                  5', metadata={'source': '..\\\\data\\\\carpeta3\\\\mia_rpa_#1_solucion.docx', 'filename': 'mia_rpa_#1_solucion.docx', 'file_directory': '..\\\\data\\\\carpeta3', 'last_modified': '2023-10-27T22:32:51', 'filetype': 'application/vnd.openxmlformats-officedocument.wordprocessingml.document', 'parent_id': '4f2fa8bb6e0b24500735305c51a29884', 'languages': ['spa'], 'page_number': 3, 'emphasized_text_contents': ['Ejemplo 2', 'Longitud solución', 'Coste solución', 'Nodos visitados', 'Amplitud', 'Profundidad', 'A* con distancia Euclídea como Heurística', 'A* con distancia Manhattan como Heurística'], 'emphasized_text_tags': ['b', 'b', 'b', 'b', 'b', 'b', 'b', 'b'], 'text_as_html': '<table>\\n<thead>\\n<tr><th>Ejemplo 2                                 </th><th style=\"text-align: right;\">  Longitud solución</th><th style=\"text-align: right;\">  Coste solución</th><th style=\"text-align: right;\">  Nodos visitados</th></tr>\\n</thead>\\n<tbody>\\n<tr><td>Amplitud                                  </td><td style=\"text-align: right;\">                  5</td><td style=\"text-align: right;\">               4</td><td style=\"text-align: right;\">                9</td></tr>\\n<tr><td>Profundidad                               </td><td style=\"text-align: right;\">                  5</td><td style=\"text-align: right;\">               4</td><td style=\"text-align: right;\">                5</td></tr>\\n<tr><td>A* con distancia Euclídea como Heurística </td><td style=\"text-align: right;\">                  5</td><td style=\"text-align: right;\">               4</td><td style=\"text-align: right;\">                5</td></tr>\\n<tr><td>A* con distancia Manhattan como Heurística</td><td style=\"text-align: right;\">                  5</td><td style=\"text-align: right;\">               4</td><td style=\"text-align: right;\">                5</td></tr>\\n</tbody>\\n</table>', 'category': 'Table'}),\n",
       " Document(page_content='De la misma forma que el anterior apartado, al tener un mismo coste por cada movimiento, la longitud y el coste de la solución tienen correlación, mientras que el número de nodos visitados depende del algoritmo utilizado. Comparando los valores de cada algoritmo el más óptimo es el A* con cualquier heurística junto con el de profundidad en este caso porque recorren el menor número de nodos. La razón de que el algoritmo de profundidad sea mejor en este caso es porque el nodo objetivo se encuentra al final de una cola de nodos predecesores los cuales no tienen adyacentes, es decir para llegar al objetivo solo se necesita recorrer en profundidad. “El algoritmo de búsqueda en profundidad recorre los vértices del grafo comenzando por uno de ellos, buscando un vértice adyacente no visitado y repitiendo el proceso desde este último vértice. Cuando el vértice no tenga adyacentes, se retrocede al anterior vértice visitado y se repite el proceso hasta completar todos los vértices del grafo” (Sánchez, 2006)', metadata={'source': '..\\\\data\\\\carpeta3\\\\mia_rpa_#1_solucion.docx', 'filename': 'mia_rpa_#1_solucion.docx', 'file_directory': '..\\\\data\\\\carpeta3', 'last_modified': '2023-10-27T22:32:51', 'filetype': 'application/vnd.openxmlformats-officedocument.wordprocessingml.document', 'parent_id': '4f2fa8bb6e0b24500735305c51a29884', 'category_depth': 0, 'languages': ['spa'], 'page_number': 3, 'category': 'NarrativeText'}),\n",
       " Document(page_content='Apartado C', metadata={'source': '..\\\\data\\\\carpeta3\\\\mia_rpa_#1_solucion.docx', 'filename': 'mia_rpa_#1_solucion.docx', 'file_directory': '..\\\\data\\\\carpeta3', 'last_modified': '2023-10-27T22:32:51', 'filetype': 'application/vnd.openxmlformats-officedocument.wordprocessingml.document', 'category_depth': 0, 'languages': ['spa'], 'page_number': 3, 'emphasized_text_contents': ['Apartado C'], 'emphasized_text_tags': ['b'], 'category': 'Title'}),\n",
       " Document(page_content='Tabla 3. Resumen de los resultados del mapa del apartado A considerando un coste de 5 para arriba según cada algoritmo de búsqueda', metadata={'source': '..\\\\data\\\\carpeta3\\\\mia_rpa_#1_solucion.docx', 'filename': 'mia_rpa_#1_solucion.docx', 'file_directory': '..\\\\data\\\\carpeta3', 'last_modified': '2023-10-27T22:32:51', 'filetype': 'application/vnd.openxmlformats-officedocument.wordprocessingml.document', 'parent_id': '69480b306f5eeed675184af2e123b5fa', 'category_depth': 0, 'languages': ['spa'], 'page_number': 3, 'emphasized_text_contents': ['Tabla 3.'], 'emphasized_text_tags': ['b'], 'category': 'NarrativeText'}),\n",
       " Document(page_content='', metadata={'source': '..\\\\data\\\\carpeta3\\\\mia_rpa_#1_solucion.docx', 'filename': 'mia_rpa_#1_solucion.docx', 'file_directory': '..\\\\data\\\\carpeta3', 'filetype': 'application/vnd.openxmlformats-officedocument.wordprocessingml.document', 'languages': ['spa'], 'category': 'PageBreak'}),\n",
       " Document(page_content='Ejemplo 3                                     Longitud solución        Coste solución    Nodos visitados\\nAmplitud                                                      8                    11                 17\\nProfundidad                                                  10                     9                 10\\nA* con distancia Euclídea como Heurística                    10                     9                 19\\nA* con distancia Manhattan como Heurística                   10                     9                 19', metadata={'source': '..\\\\data\\\\carpeta3\\\\mia_rpa_#1_solucion.docx', 'filename': 'mia_rpa_#1_solucion.docx', 'file_directory': '..\\\\data\\\\carpeta3', 'last_modified': '2023-10-27T22:32:51', 'filetype': 'application/vnd.openxmlformats-officedocument.wordprocessingml.document', 'languages': ['spa'], 'page_number': 4, 'emphasized_text_contents': ['Ejemplo 3', 'Longitud solución', 'Coste solución', 'Nodos visitados', 'Amplitud', 'Profundidad', 'A* con distancia Euclídea como Heurística', 'A* con distancia Manhattan como Heurística'], 'emphasized_text_tags': ['b', 'b', 'b', 'b', 'b', 'b', 'b', 'b'], 'text_as_html': '<table>\\n<thead>\\n<tr><th>Ejemplo 3                                 </th><th style=\"text-align: right;\">  Longitud solución</th><th>  </th><th style=\"text-align: right;\">  Coste solución</th><th style=\"text-align: right;\">  Nodos visitados</th></tr>\\n</thead>\\n<tbody>\\n<tr><td>Amplitud                                  </td><td style=\"text-align: right;\">                  8</td><td>  </td><td style=\"text-align: right;\">              11</td><td style=\"text-align: right;\">               17</td></tr>\\n<tr><td>Profundidad                               </td><td style=\"text-align: right;\">                 10</td><td>  </td><td style=\"text-align: right;\">               9</td><td style=\"text-align: right;\">               10</td></tr>\\n<tr><td>A* con distancia Euclídea como Heurística </td><td style=\"text-align: right;\">                 10</td><td>  </td><td style=\"text-align: right;\">               9</td><td style=\"text-align: right;\">               19</td></tr>\\n<tr><td>A* con distancia Manhattan como Heurística</td><td style=\"text-align: right;\">                 10</td><td>  </td><td style=\"text-align: right;\">               9</td><td style=\"text-align: right;\">               19</td></tr>\\n</tbody>\\n</table>', 'category': 'Table'}),\n",
       " Document(page_content='Al comparar los resultados del literal C y del literal A, ambos con el mismo mapa, pero el literal C con un coste de 5 para el movimiento hacia arriba, se encontró un aumento de los nodos visitados, coste y longitud de la solución para el literal C. Sin embargo, el algoritmo de profundidad fue la excepción en ambos casos se mantienen los mismos resultados. Para el algoritmo de amplitud se incrementó un 57% el coste de la solución, pero tanto los nodos visitados y la longitud de la solución fue la misma. Mientras que para el algoritmo de A* con la heurística Manhattan y Euclídea se incrementó un 28% y un 25% para el coste y la longitud de la solución; mientras que, el número de nodos visitados incrementó en un 72%. Con estos resultados, en general excepto por el algoritmo de profundidad, aumentar el precio de una acción provoca un aumento de los nodos visitados, coste de la solución y la longitud de la solución. Este comportamiento es debido a que principalmente algoritmos como A* buscan minimizar la función heurística, por lo que tienden a revisar muchos estados hasta alcanzar la solución más optima.', metadata={'source': '..\\\\data\\\\carpeta3\\\\mia_rpa_#1_solucion.docx', 'filename': 'mia_rpa_#1_solucion.docx', 'file_directory': '..\\\\data\\\\carpeta3', 'last_modified': '2023-10-27T22:32:51', 'filetype': 'application/vnd.openxmlformats-officedocument.wordprocessingml.document', 'category_depth': 0, 'languages': ['spa'], 'page_number': 4, 'category': 'NarrativeText'}),\n",
       " Document(page_content='', metadata={'source': '..\\\\data\\\\carpeta3\\\\mia_rpa_#1_solucion.docx', 'filename': 'mia_rpa_#1_solucion.docx', 'file_directory': '..\\\\data\\\\carpeta3', 'filetype': 'application/vnd.openxmlformats-officedocument.wordprocessingml.document', 'languages': ['spa'], 'category': 'PageBreak'}),\n",
       " Document(page_content='Apartado D', metadata={'source': '..\\\\data\\\\carpeta3\\\\mia_rpa_#1_solucion.docx', 'filename': 'mia_rpa_#1_solucion.docx', 'file_directory': '..\\\\data\\\\carpeta3', 'last_modified': '2023-10-27T22:32:51', 'filetype': 'application/vnd.openxmlformats-officedocument.wordprocessingml.document', 'category_depth': 0, 'languages': ['spa'], 'page_number': 5, 'emphasized_text_contents': ['Apartado D'], 'emphasized_text_tags': ['b'], 'category': 'Title'}),\n",
       " Document(page_content='Mapa Inicial', metadata={'source': '..\\\\data\\\\carpeta3\\\\mia_rpa_#1_solucion.docx', 'filename': 'mia_rpa_#1_solucion.docx', 'file_directory': '..\\\\data\\\\carpeta3', 'last_modified': '2023-10-27T22:32:51', 'filetype': 'application/vnd.openxmlformats-officedocument.wordprocessingml.document', 'category_depth': 0, 'languages': ['spa'], 'page_number': 5, 'emphasized_text_contents': ['Mapa Inicial'], 'emphasized_text_tags': ['b'], 'category': 'Title'}),\n",
       " Document(page_content='#    #    #    #    #    #    #    #    #    #    #    #    #\\n#                                                 #         #\\n#         #    #    #    #              #         #    P    #\\n#                        #              #                   #\\n#                                  #    #         #         #\\n#                                       #                   #\\n#         #    #    #    #    #         #         #         #\\n#         #                                       #         #\\n#         #                   #                   #         #\\n#                        #    #    #    #         #         #\\n#                             T    #                        #\\n#    #    #    #    #    #    #    #    #    #    #    #    #', metadata={'source': '..\\\\data\\\\carpeta3\\\\mia_rpa_#1_solucion.docx', 'filename': 'mia_rpa_#1_solucion.docx', 'file_directory': '..\\\\data\\\\carpeta3', 'last_modified': '2023-10-27T22:32:51', 'filetype': 'application/vnd.openxmlformats-officedocument.wordprocessingml.document', 'parent_id': '333991aba1dce491b50e4fa02ccf7411', 'languages': ['spa'], 'page_number': 5, 'text_as_html': '<table>\\n<thead>\\n<tr><th>#  </th><th>#  </th><th>#  </th><th>#  </th><th>#  </th><th>#  </th><th>#  </th><th>#  </th><th>#  </th><th>#  </th><th>#  </th><th>#  </th><th>#  </th></tr>\\n</thead>\\n<tbody>\\n<tr><td>#  </td><td>   </td><td>   </td><td>   </td><td>   </td><td>   </td><td>   </td><td>   </td><td>   </td><td>   </td><td>#  </td><td>   </td><td>#  </td></tr>\\n<tr><td>#  </td><td>   </td><td>#  </td><td>#  </td><td>#  </td><td>#  </td><td>   </td><td>   </td><td>#  </td><td>   </td><td>#  </td><td>P  </td><td>#  </td></tr>\\n<tr><td>#  </td><td>   </td><td>   </td><td>   </td><td>   </td><td>#  </td><td>   </td><td>   </td><td>#  </td><td>   </td><td>   </td><td>   </td><td>#  </td></tr>\\n<tr><td>#  </td><td>   </td><td>   </td><td>   </td><td>   </td><td>   </td><td>   </td><td>#  </td><td>#  </td><td>   </td><td>#  </td><td>   </td><td>#  </td></tr>\\n<tr><td>#  </td><td>   </td><td>   </td><td>   </td><td>   </td><td>   </td><td>   </td><td>   </td><td>#  </td><td>   </td><td>   </td><td>   </td><td>#  </td></tr>\\n<tr><td>#  </td><td>   </td><td>#  </td><td>#  </td><td>#  </td><td>#  </td><td>#  </td><td>   </td><td>#  </td><td>   </td><td>#  </td><td>   </td><td>#  </td></tr>\\n<tr><td>#  </td><td>   </td><td>#  </td><td>   </td><td>   </td><td>   </td><td>   </td><td>   </td><td>   </td><td>   </td><td>#  </td><td>   </td><td>#  </td></tr>\\n<tr><td>#  </td><td>   </td><td>#  </td><td>   </td><td>   </td><td>   </td><td>#  </td><td>   </td><td>   </td><td>   </td><td>#  </td><td>   </td><td>#  </td></tr>\\n<tr><td>#  </td><td>   </td><td>   </td><td>   </td><td>   </td><td>#  </td><td>#  </td><td>#  </td><td>#  </td><td>   </td><td>#  </td><td>   </td><td>#  </td></tr>\\n<tr><td>#  </td><td>   </td><td>   </td><td>   </td><td>   </td><td>   </td><td>T  </td><td>#  </td><td>   </td><td>   </td><td>   </td><td>   </td><td>#  </td></tr>\\n<tr><td>#  </td><td>#  </td><td>#  </td><td>#  </td><td>#  </td><td>#  </td><td>#  </td><td>#  </td><td>#  </td><td>#  </td><td>#  </td><td>#  </td><td>#  </td></tr>\\n</tbody>\\n</table>', 'category': 'Table'}),\n",
       " Document(page_content='Tabla 4. Resumen de los resultados del mapa anterior para cada algoritmo de búsqueda', metadata={'source': '..\\\\data\\\\carpeta3\\\\mia_rpa_#1_solucion.docx', 'filename': 'mia_rpa_#1_solucion.docx', 'file_directory': '..\\\\data\\\\carpeta3', 'last_modified': '2023-10-27T22:32:51', 'filetype': 'application/vnd.openxmlformats-officedocument.wordprocessingml.document', 'parent_id': '333991aba1dce491b50e4fa02ccf7411', 'category_depth': 0, 'languages': ['spa'], 'page_number': 5, 'emphasized_text_contents': ['Tabla 4.'], 'emphasized_text_tags': ['b'], 'category': 'UncategorizedText'}),\n",
       " Document(page_content='Ejemplo 4                                     Longitud solución    Coste solución    Nodos visitados\\nAmplitud                                                     19                50                 89\\nProfundidad                                                  45                96                 49\\nA* con distancia Euclídea como Heurística                    18                17                 42\\nA* con distancia Manhattan como Heurística                   18                17                 32', metadata={'source': '..\\\\data\\\\carpeta3\\\\mia_rpa_#1_solucion.docx', 'filename': 'mia_rpa_#1_solucion.docx', 'file_directory': '..\\\\data\\\\carpeta3', 'last_modified': '2023-10-27T22:32:51', 'filetype': 'application/vnd.openxmlformats-officedocument.wordprocessingml.document', 'parent_id': '333991aba1dce491b50e4fa02ccf7411', 'languages': ['spa'], 'page_number': 5, 'emphasized_text_contents': ['Ejemplo 4', 'Longitud solución', 'Coste solución', 'Nodos visitados', 'Amplitud', 'Profundidad', 'A* con distancia Euclídea como Heurística', 'A* con distancia Manhattan como Heurística'], 'emphasized_text_tags': ['b', 'b', 'b', 'b', 'b', 'b', 'b', 'b'], 'text_as_html': '<table>\\n<thead>\\n<tr><th>Ejemplo 4                                 </th><th style=\"text-align: right;\">  Longitud solución</th><th style=\"text-align: right;\">  Coste solución</th><th style=\"text-align: right;\">  Nodos visitados</th></tr>\\n</thead>\\n<tbody>\\n<tr><td>Amplitud                                  </td><td style=\"text-align: right;\">                 19</td><td style=\"text-align: right;\">              50</td><td style=\"text-align: right;\">               89</td></tr>\\n<tr><td>Profundidad                               </td><td style=\"text-align: right;\">                 45</td><td style=\"text-align: right;\">              96</td><td style=\"text-align: right;\">               49</td></tr>\\n<tr><td>A* con distancia Euclídea como Heurística </td><td style=\"text-align: right;\">                 18</td><td style=\"text-align: right;\">              17</td><td style=\"text-align: right;\">               42</td></tr>\\n<tr><td>A* con distancia Manhattan como Heurística</td><td style=\"text-align: right;\">                 18</td><td style=\"text-align: right;\">              17</td><td style=\"text-align: right;\">               32</td></tr>\\n</tbody>\\n</table>', 'category': 'Table'}),\n",
       " Document(page_content='', metadata={'source': '..\\\\data\\\\carpeta3\\\\mia_rpa_#1_solucion.docx', 'filename': 'mia_rpa_#1_solucion.docx', 'file_directory': '..\\\\data\\\\carpeta3', 'filetype': 'application/vnd.openxmlformats-officedocument.wordprocessingml.document', 'languages': ['spa'], 'category': 'PageBreak'}),\n",
       " Document(page_content='Los resultados anteriores que se presentan muestran que el algoritmo A* con la heurística de Manhattan y Euclídea tanto en coste y longitud de la solución alcanzan los mismos resultados. De hecho, Humar et al. (2016) destaca que no existe una diferencia de la solución tanto en coste como longitud, los autores encontraron que en entornos incluso mucho más complejos se mantiene la misma tendencia. Sin embargo, se presenta que para entornos que existen limitaciones como laberintos muchas veces la heurística Euclídea no es capaz de considerar los obstáculos del laberinto, por lo que provoca que los nodos que se tengan que revisar para alcanzar la solución sean mayores. De la misma forma, Pramudya (2016) alcanzó resultados similares. En este caso, el autor presenta que la heurística de Manhattan obtuvo una solución en un 3% mucho más rápida que cuando se empleó la heurística Euclídea. Por otra parte, los resultados obtenidos con el algoritmo de Profundidad y Amplitud siguen un patrón similar a los resultados anteriores, los algoritmos de amplitud revisan más nodos que los algoritmos de profundidad, esto provoca un mayor coste computacional por el algoritmo de profundidad.', metadata={'source': '..\\\\data\\\\carpeta3\\\\mia_rpa_#1_solucion.docx', 'filename': 'mia_rpa_#1_solucion.docx', 'file_directory': '..\\\\data\\\\carpeta3', 'last_modified': '2023-10-27T22:32:51', 'filetype': 'application/vnd.openxmlformats-officedocument.wordprocessingml.document', 'category_depth': 0, 'languages': ['spa'], 'page_number': 6, 'category': 'NarrativeText'}),\n",
       " Document(page_content='Bibliografía:', metadata={'source': '..\\\\data\\\\carpeta3\\\\mia_rpa_#1_solucion.docx', 'filename': 'mia_rpa_#1_solucion.docx', 'file_directory': '..\\\\data\\\\carpeta3', 'last_modified': '2023-10-27T22:32:51', 'filetype': 'application/vnd.openxmlformats-officedocument.wordprocessingml.document', 'category_depth': 0, 'languages': ['spa'], 'page_number': 6, 'emphasized_text_contents': ['Bibliografía:', 'Bibliografía:'], 'emphasized_text_tags': ['b', 'i'], 'category': 'Title'}),\n",
       " Document(page_content='Sánchez Torrubia, M. G., & Gutiérrez Revenga, S. (2006). Tutorial interactivo para la enseñanza y el aprendizaje de los algoritmos de búsqueda en anchura y en profundidad.', metadata={'source': '..\\\\data\\\\carpeta3\\\\mia_rpa_#1_solucion.docx', 'filename': 'mia_rpa_#1_solucion.docx', 'file_directory': '..\\\\data\\\\carpeta3', 'last_modified': '2023-10-27T22:32:51', 'filetype': 'application/vnd.openxmlformats-officedocument.wordprocessingml.document', 'parent_id': 'c993f709c7e5c98f28f589fe7e44f73e', 'category_depth': 0, 'languages': ['spa'], 'page_number': 6, 'category': 'ListItem'}),\n",
       " Document(page_content='Kumar, N., Vámossy, Z., & Szabó-Resch, Z. M. (2016). Heuristic approaches in robot navigation. In 2016 IEEE 20th Jubilee International Conference on Intelligent Engineering Systems (INES) (pp. 219-222). IEEE.', metadata={'source': '..\\\\data\\\\carpeta3\\\\mia_rpa_#1_solucion.docx', 'filename': 'mia_rpa_#1_solucion.docx', 'file_directory': '..\\\\data\\\\carpeta3', 'last_modified': '2023-10-27T22:32:51', 'filetype': 'application/vnd.openxmlformats-officedocument.wordprocessingml.document', 'parent_id': 'c993f709c7e5c98f28f589fe7e44f73e', 'category_depth': 0, 'languages': ['spa'], 'page_number': 6, 'emphasized_text_contents': ['2016 IEEE 20th', 'Jubilee', 'International', 'Conference', 'on', 'Intelligent', 'Engineering', 'Systems', '(INES)'], 'emphasized_text_tags': ['i', 'i', 'i', 'i', 'i', 'i', 'i', 'i', 'i'], 'category': 'ListItem'}),\n",
       " Document(page_content='Pramudya, P. (2016). Heuristically Informed Search Methods for Solving Path-Finding Problem in Grid Square Environment and its Optimization. Program Studi Informatika, Sekolah Elektro dan Informatika, Institut Teknologi Bandung, Jl. Ganesha, 10.', metadata={'source': '..\\\\data\\\\carpeta3\\\\mia_rpa_#1_solucion.docx', 'filename': 'mia_rpa_#1_solucion.docx', 'file_directory': '..\\\\data\\\\carpeta3', 'last_modified': '2023-10-27T22:32:51', 'filetype': 'application/vnd.openxmlformats-officedocument.wordprocessingml.document', 'parent_id': 'c993f709c7e5c98f28f589fe7e44f73e', 'category_depth': 0, 'languages': ['spa'], 'page_number': 6, 'emphasized_text_contents': ['Program', 'Studi', 'Informatika', ',', 'Sekolah', 'Elektro', 'dan', 'Informatika', ',', 'Institut', 'Teknologi', 'Bandung,', 'Jl', '. Ganesha', '10'], 'emphasized_text_tags': ['i', 'i', 'i', 'i', 'i', 'i', 'i', 'i', 'i', 'i', 'i', 'i', 'i', 'i', 'i'], 'category': 'ListItem'}),\n",
       " Document(page_content='', metadata={'source': '..\\\\data\\\\carpeta3\\\\mia_rpa_#1_solucion.docx', 'filename': 'mia_rpa_#1_solucion.docx', 'file_directory': '..\\\\data\\\\carpeta3', 'filetype': 'application/vnd.openxmlformats-officedocument.wordprocessingml.document', 'languages': ['spa'], 'category': 'PageBreak'}),\n",
       " Document(page_content='Capturas de Pantalla', metadata={'source': '..\\\\data\\\\carpeta3\\\\mia_rpa_#1_solucion.docx', 'filename': 'mia_rpa_#1_solucion.docx', 'file_directory': '..\\\\data\\\\carpeta3', 'last_modified': '2023-10-27T22:32:51', 'filetype': 'application/vnd.openxmlformats-officedocument.wordprocessingml.document', 'category_depth': 1, 'languages': ['spa'], 'page_number': 7, 'emphasized_text_contents': ['Capturas de Pantalla'], 'emphasized_text_tags': ['b'], 'category': 'Title'}),\n",
       " Document(page_content='Apartado 1', metadata={'source': '..\\\\data\\\\carpeta3\\\\mia_rpa_#1_solucion.docx', 'filename': 'mia_rpa_#1_solucion.docx', 'file_directory': '..\\\\data\\\\carpeta3', 'last_modified': '2023-10-27T22:32:51', 'filetype': 'application/vnd.openxmlformats-officedocument.wordprocessingml.document', 'category_depth': 0, 'languages': ['spa'], 'page_number': 7, 'category': 'Title'}),\n",
       " Document(page_content='Búsqueda por amplitud', metadata={'source': '..\\\\data\\\\carpeta3\\\\mia_rpa_#1_solucion.docx', 'filename': 'mia_rpa_#1_solucion.docx', 'file_directory': '..\\\\data\\\\carpeta3', 'last_modified': '2023-10-27T22:32:51', 'filetype': 'application/vnd.openxmlformats-officedocument.wordprocessingml.document', 'category_depth': 0, 'languages': ['spa'], 'page_number': 7, 'category': 'Title'}),\n",
       " Document(page_content='Búsqueda por profundidad', metadata={'source': '..\\\\data\\\\carpeta3\\\\mia_rpa_#1_solucion.docx', 'filename': 'mia_rpa_#1_solucion.docx', 'file_directory': '..\\\\data\\\\carpeta3', 'last_modified': '2023-10-27T22:32:51', 'filetype': 'application/vnd.openxmlformats-officedocument.wordprocessingml.document', 'category_depth': 0, 'languages': ['spa'], 'page_number': 7, 'category': 'Title'}),\n",
       " Document(page_content='Búsqueda por A* (Heuristica distancia Euclídea)', metadata={'source': '..\\\\data\\\\carpeta3\\\\mia_rpa_#1_solucion.docx', 'filename': 'mia_rpa_#1_solucion.docx', 'file_directory': '..\\\\data\\\\carpeta3', 'last_modified': '2023-10-27T22:32:51', 'filetype': 'application/vnd.openxmlformats-officedocument.wordprocessingml.document', 'category_depth': 0, 'languages': ['spa'], 'page_number': 7, 'category': 'Title'}),\n",
       " Document(page_content='', metadata={'source': '..\\\\data\\\\carpeta3\\\\mia_rpa_#1_solucion.docx', 'filename': 'mia_rpa_#1_solucion.docx', 'file_directory': '..\\\\data\\\\carpeta3', 'filetype': 'application/vnd.openxmlformats-officedocument.wordprocessingml.document', 'languages': ['spa'], 'category': 'PageBreak'}),\n",
       " Document(page_content='Búsqueda por A* (Heuristica distancia Manhattan)', metadata={'source': '..\\\\data\\\\carpeta3\\\\mia_rpa_#1_solucion.docx', 'filename': 'mia_rpa_#1_solucion.docx', 'file_directory': '..\\\\data\\\\carpeta3', 'last_modified': '2023-10-27T22:32:51', 'filetype': 'application/vnd.openxmlformats-officedocument.wordprocessingml.document', 'category_depth': 0, 'languages': ['spa'], 'page_number': 8, 'category': 'Title'}),\n",
       " Document(page_content='Apartado 2', metadata={'source': '..\\\\data\\\\carpeta3\\\\mia_rpa_#1_solucion.docx', 'filename': 'mia_rpa_#1_solucion.docx', 'file_directory': '..\\\\data\\\\carpeta3', 'last_modified': '2023-10-27T22:32:51', 'filetype': 'application/vnd.openxmlformats-officedocument.wordprocessingml.document', 'category_depth': 0, 'languages': ['spa'], 'page_number': 8, 'category': 'Title'}),\n",
       " Document(page_content='Búsqueda por amplitud', metadata={'source': '..\\\\data\\\\carpeta3\\\\mia_rpa_#1_solucion.docx', 'filename': 'mia_rpa_#1_solucion.docx', 'file_directory': '..\\\\data\\\\carpeta3', 'last_modified': '2023-10-27T22:32:51', 'filetype': 'application/vnd.openxmlformats-officedocument.wordprocessingml.document', 'category_depth': 0, 'languages': ['spa'], 'page_number': 8, 'category': 'Title'}),\n",
       " Document(page_content='', metadata={'source': '..\\\\data\\\\carpeta3\\\\mia_rpa_#1_solucion.docx', 'filename': 'mia_rpa_#1_solucion.docx', 'file_directory': '..\\\\data\\\\carpeta3', 'filetype': 'application/vnd.openxmlformats-officedocument.wordprocessingml.document', 'languages': ['spa'], 'category': 'PageBreak'}),\n",
       " Document(page_content='Búsqueda por profundidad', metadata={'source': '..\\\\data\\\\carpeta3\\\\mia_rpa_#1_solucion.docx', 'filename': 'mia_rpa_#1_solucion.docx', 'file_directory': '..\\\\data\\\\carpeta3', 'last_modified': '2023-10-27T22:32:51', 'filetype': 'application/vnd.openxmlformats-officedocument.wordprocessingml.document', 'category_depth': 0, 'languages': ['spa'], 'page_number': 9, 'category': 'Title'}),\n",
       " Document(page_content='\\nActividades', metadata={'source': '..\\\\data\\\\carpeta3\\\\mia_rpa_#1_solucion.docx', 'filename': 'mia_rpa_#1_solucion.docx', 'file_directory': '..\\\\data\\\\carpeta3', 'filetype': 'application/vnd.openxmlformats-officedocument.wordprocessingml.document', 'category_depth': 0, 'languages': ['spa'], 'header_footer_type': 'primary', 'category': 'Footer'})]"
      ]
     },
     "execution_count": 8,
     "metadata": {},
     "output_type": "execute_result"
    }
   ],
   "source": [
    "word_docs"
   ]
  },
  {
   "cell_type": "markdown",
   "metadata": {},
   "source": [
    "## Text splitting\n",
    "\n",
    "Once data has been loaded, it has to be splitted into data chunks to be considered useful in the LLM."
   ]
  },
  {
   "cell_type": "code",
   "execution_count": 4,
   "metadata": {},
   "outputs": [],
   "source": [
    "from langchain.text_splitter import RecursiveCharacterTextSplitter"
   ]
  },
  {
   "cell_type": "code",
   "execution_count": 5,
   "metadata": {},
   "outputs": [],
   "source": [
    "text_splitter = RecursiveCharacterTextSplitter(\n",
    "    chunk_size = 300,\n",
    "    chunk_overlap  = 100,\n",
    "    length_function = len,\n",
    "    add_start_index = True\n",
    ")"
   ]
  },
  {
   "cell_type": "code",
   "execution_count": 6,
   "metadata": {},
   "outputs": [],
   "source": [
    "texts = text_splitter.split_documents(docs)"
   ]
  },
  {
   "cell_type": "markdown",
   "metadata": {},
   "source": [
    "## Text embeddings\n",
    "\n",
    "In this part, the chunks are going to be created into embeddings. "
   ]
  },
  {
   "cell_type": "code",
   "execution_count": 7,
   "metadata": {},
   "outputs": [],
   "source": [
    "from langchain.embeddings import SentenceTransformerEmbeddings"
   ]
  },
  {
   "cell_type": "code",
   "execution_count": 8,
   "metadata": {},
   "outputs": [
    {
     "name": "stderr",
     "output_type": "stream",
     "text": [
      "c:\\Users\\LP00035\\anaconda3\\envs\\openai\\lib\\site-packages\\tqdm\\auto.py:21: TqdmWarning: IProgress not found. Please update jupyter and ipywidgets. See https://ipywidgets.readthedocs.io/en/stable/user_install.html\n",
      "  from .autonotebook import tqdm as notebook_tqdm\n"
     ]
    }
   ],
   "source": [
    "embedding = SentenceTransformerEmbeddings(model_name = 'intfloat/multilingual-e5-base')"
   ]
  },
  {
   "cell_type": "markdown",
   "metadata": {},
   "source": [
    "## Vector database"
   ]
  },
  {
   "cell_type": "code",
   "execution_count": 9,
   "metadata": {},
   "outputs": [],
   "source": [
    "from langchain.vectorstores import Chroma"
   ]
  },
  {
   "cell_type": "markdown",
   "metadata": {},
   "source": [
    "Generate the DB through the embedding"
   ]
  },
  {
   "cell_type": "code",
   "execution_count": 10,
   "metadata": {},
   "outputs": [],
   "source": [
    "NAME_VECTOR_STORE = 'embeddings-mvp'\n",
    "# vectorstore = Chroma.from_documents(documents=texts, embedding=embedding, persist_directory=NAME_VECTOR_STORE)"
   ]
  },
  {
   "cell_type": "markdown",
   "metadata": {},
   "source": [
    "Save the embedding in the disk"
   ]
  },
  {
   "cell_type": "code",
   "execution_count": 11,
   "metadata": {},
   "outputs": [],
   "source": [
    "# vectorstore.persist()"
   ]
  },
  {
   "cell_type": "markdown",
   "metadata": {},
   "source": [
    "Load vector store from the DB"
   ]
  },
  {
   "cell_type": "code",
   "execution_count": 12,
   "metadata": {},
   "outputs": [],
   "source": [
    "vectorstore = Chroma(persist_directory=NAME_VECTOR_STORE, embedding_function=embedding)"
   ]
  }
 ],
 "metadata": {
  "kernelspec": {
   "display_name": "openai",
   "language": "python",
   "name": "python3"
  },
  "language_info": {
   "codemirror_mode": {
    "name": "ipython",
    "version": 3
   },
   "file_extension": ".py",
   "mimetype": "text/x-python",
   "name": "python",
   "nbconvert_exporter": "python",
   "pygments_lexer": "ipython3",
   "version": "3.9.18"
  }
 },
 "nbformat": 4,
 "nbformat_minor": 2
}
