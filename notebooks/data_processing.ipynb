{
 "cells": [
  {
   "cell_type": "markdown",
   "metadata": {},
   "source": [
    "# MVP\n",
    "\n",
    "Startup: Isearch\n",
    "\n",
    "Done by: Sebastian Sarasti\n",
    "\n",
    "This notebook aims to be a guide of how to build a elastic search engine to search into different documents."
   ]
  },
  {
   "cell_type": "markdown",
   "metadata": {},
   "source": [
    "## Data loading"
   ]
  },
  {
   "cell_type": "code",
   "execution_count": 1,
   "metadata": {},
   "outputs": [],
   "source": [
    "from langchain.vectorstores import Chroma"
   ]
  },
  {
   "cell_type": "markdown",
   "metadata": {},
   "source": [
    "Load all pdfs from the data folder, show a progress bar, and use all threads available"
   ]
  },
  {
   "cell_type": "code",
   "execution_count": 2,
   "metadata": {},
   "outputs": [],
   "source": [
    "from langchain.document_loaders import PyPDFLoader, DirectoryLoader"
   ]
  },
  {
   "cell_type": "code",
   "execution_count": 3,
   "metadata": {},
   "outputs": [],
   "source": [
    "loader = DirectoryLoader('../data/', '**/*.pdf', loader_cls=PyPDFLoader, use_multithreading=True)\n",
    "docs = loader.load()"
   ]
  },
  {
   "cell_type": "code",
   "execution_count": 13,
   "metadata": {},
   "outputs": [],
   "source": [
    "from langchain.document_loaders import Docx2txtLoader"
   ]
  },
  {
   "cell_type": "code",
   "execution_count": 16,
   "metadata": {},
   "outputs": [],
   "source": [
    "word_loader = DirectoryLoader('../data/', '**/*.docx', loader_cls = Docx2txtLoader, use_multithreading=True)\n",
    "# word_loader = Docx2txtLoader(\"../data/carpeta3/HORARIOS PARA EL RIEGO DE AGUA megaproyecto ( reformado).docx\")\n",
    "word_docs = word_loader.load()"
   ]
  },
  {
   "cell_type": "code",
   "execution_count": 17,
   "metadata": {},
   "outputs": [
    {
     "data": {
      "text/plain": [
       "[Document(page_content='JUNTA DE AGUA DE RIEGO Y /O DRENAJE “JESÚS DEL GRAN PODER”\\n\\nSAN JUAN - PUJILÍ - COTOPAXI\\n\\n\\n\\nHORARIOS PARA EL RIEGO DE AGUA POR ASPERSIÓN DEL MEGAPROYECTO\\n\\n\\n\\nPRIMER  TURNO ( SABADO) \\n\\nDE 06H00 HASTA 12H00\\n\\n\\n\\n                         \\n\\n1\\n\\nLAVERDE AMORES ANTONIO JAVIER\\n\\n2\\n\\nHEREDEROS DE GUANO SARATE CARLOS GUILLERMO\\n\\n3\\n\\nCHIGUANO SANDOVAL PAOLA  NATALY\\n\\n4\\n\\nCHIGUANO SANDOVAL PAOLA  NATALY\\n\\n5\\n\\nCHUGCHILAN TIPANTUÑA REIMUNDO\\n\\n6\\n\\nAMORES TOSCANO SABINA DE JESÚS\\n\\n7\\n\\nHEREDEROS  DE  TROYA AMORES LUIS FERNANDO\\n\\n8\\n\\nROMERO GUEVARA AIDA MARÍA\\n\\n9\\n\\nHEREDEROS DE ROMERO CALERO SEGUNDO LUCIANO\\n\\n10\\n\\nLEMA CHASILOA LUIS GUILLERMO\\n\\n11\\n\\nHEREDEROS  DE  TROYA AMORES LUIS FERNANDO\\n\\n12\\n\\nROMERO LOVARO RAFAEL MARÍA\\n\\n13\\n\\nMONJE NETO JORGE ALCIDES\\n\\n14\\n\\nBEDON LOZADA ZOILA EMERITA\\n\\n15\\n\\nVACA CÁRDENAS MARÍA\\n\\n16\\n\\nBEDON LOZADA ZOILA EMERITA\\n\\n17\\n\\nBEDON LOZADA ZOILA EMERITA\\n\\n18\\n\\nCALERO GUANO SEGUNDO JORGE\\n\\n19\\n\\nROMERO GUEVARA LUIS\\n\\n20\\n\\nSARASTI ZAMBONINO MARCIA RAQUEL\\n\\n21\\n\\nPACHECO PACHECO ELVIA ALICIA TARCILA\\n\\n22\\n\\nLARA MARÍA TERESA GRACIELA\\n\\n23\\n\\nHEREDEROS DE ROMERO CALERO SEGUNDO LUCIANO\\n\\n24\\n\\nHEREDEROS DE ROMERO CALERO SEGUNDO JOSÉ MARÍA\\n\\n25\\n\\nHEREDEROS DE ROMERO CALERO SEGUNDO LUCIANO\\n\\n\\n\\nSEGUNDO TURNO \\n\\n DE 12H00  HASTA  18H00.\\n\\n\\n\\n1\\n\\nPILA SEGOVIA CLARA BEATRIZ\\n\\n2\\n\\nHEREDEROS DE GUATO SARZOSA MANUEL MESÍAS\\n\\n3\\n\\nHEREDEROS DE ROMERO CALERO SEGUNDO\\n\\n4\\n\\nGUANO SARATE CARLOS GUILLERMO ANÍBAL\\n\\n5\\n\\nROMERO GUISCASO MISHELL ANAHI\\n\\n6\\n\\nROMERO CELA FRANKLIN HUMBERTO\\n\\n7\\n\\nCALERO LOZADA GLORIA TERESA\\n\\n8\\n\\nCARRANZA CALERO DIEGO MAURICIO\\n\\n9\\n\\nBONILLA JÁCOME MANUEL MESÍAS\\n\\n10\\n\\nBONILLA ANA MARÍA\\n\\n11\\n\\nVIVAS EDUARDO ALCIBIADES\\n\\n12\\n\\nCEVALLOS MADRID MANUEL MARÍA\\n\\n13\\n\\nBONILLA CALERO MARÍA RAFAELA\\n\\n14\\n\\nBONILLA JÁCOME CARMEN CECILIA\\n\\n15\\n\\nBONILLA JÁCOME  MARÍA EULALIA\\n\\n16\\n\\nSARASTI ZAMBONINO NELSON RAFAEL\\n\\n17\\n\\nCHANGOLUISA DÍAS  MARÍA DIOCELINA\\n\\n18\\n\\nCOMINA ANCHATIPAN  VICTOR ALBERTO\\n\\n19\\n\\nTOAQUIZA LOVATO LUIS ALBERTO\\n\\n20\\n\\nTOAQUIZA LOVATO SEGUNDO NÉSTOR\\n\\n21\\n\\nCOMINA ANCHATIPAN  VICTOR ALBERTO\\n\\n22\\n\\nGUANO SARATE  CARLOS GUILLERMO ANÍBAL\\n\\n23\\n\\nCAICEDO BARRAGAN GUALBERTO GUSTAVO\\n\\n24\\n\\nTOAQUIZA RIVERA LUIS ALCIBIADES\\n\\n25\\n\\nCEVALLOS MADRID MANUEL MARÍA\\n\\n26\\n\\nSARASTI ZAMBONINO AIDA TERESA\\n\\n27\\n\\nSARASTI ZAMBONINO ÁNGEL RUBÉN MARCELO\\n\\n28\\n\\nSARASTI ZAMBONINO MARCIA RAQUEL\\n\\n29\\n\\nDIAS YUPANGUI ROSA\\n\\n30\\n\\nSALAZAR TROYA NELSON HÉRNAN\\n\\n31\\n\\nSALAZAR TROYA NELSON HÉRNAN\\n\\n32\\n\\nHERRERA HEREDIA  NÉSTOR RAFAEL\\n\\n33\\n\\nHINOJOSA LOVATO JUAN GERMAN\\n\\n34\\n\\nRIVERA RIVERA MARÍA TERESA\\n\\n35\\n\\nSARASTI ZAMBONINO NELSON RAFAEL\\n\\n36\\n\\nRIVERA RIVERA CARLOS SERVELIO\\n\\n37\\n\\nCÁRDENAS FREDY\\n\\n38\\n\\nALBAN CÁRDENAS SILVIA MANUELA\\n\\n39\\n\\nCARDENAS ANDRADE FANNY PARICIA\\n\\n40\\n\\nCARDENAS ANDRADE FANNY PARICIA\\n\\n41\\n\\nLOVATO CHASILUISA JUAN SANTIAGO\\n\\n42\\n\\nLOMAS GUERRERO MARINA ERNESTINA\\n\\n43\\n\\nALBAN CÁRDENAS ÁNGEL ERNESTO\\n\\n44\\n\\nALBAN CÁRDENAS FANNY ISIDORA\\n\\n45\\n\\nALBAN CÁRDENAS SILVIA MANUELA\\n\\n46\\n\\nALBAN CÁRDENAS  MARÍA ERMINIA\\n\\n\\n\\nTERCER TURNO\\n\\n DE 18H00 HASTA 24HOO\\n\\n\\n\\n\\n\\n1\\n\\nJÁCOME GUANO VILMA ELIZABETH\\n\\n2\\n\\nJÁCOME GUANO VILMA ELIZABETH\\n\\n3\\n\\nALBAN GUANO CARMEN AMELIA\\n\\n4\\n\\nROMERO BORJA CARLOS EMILIO\\n\\n5\\n\\nOTAÑEZ HERRERA JORGE ENRIQURÉ\\n\\n6\\n\\nMADRIL CHICAIZA EDGAR MESÍAS\\n\\n7\\n\\nRIVERA TAMAYO MARÍA AGUSTINA\\n\\n8\\n\\nSARASTI ZAMBONINO MARCIA RAQUEL\\n\\n9\\n\\nSARASTI ZAMBONINO  NELSON RAFAEL\\n\\n10\\n\\nCOMINA JORGE\\n\\n11\\n\\nBEDÓN LOZADA ZOILA EMERITA\\n\\n12\\n\\nJÁCOME RIVERA SEGUNDO\\n\\n13\\n\\nROMERO CELA LINA AMADA\\n\\n14\\n\\nROMERO CELA NORMA AMELIA\\n\\n15\\n\\nMADRIL RIVERA  NÉSTOR GUSTAVO\\n\\n16\\n\\nAYALA LAVERDE AIDA MARTHA BEATRIZ\\n\\n17\\n\\nROMERO GUANO NÉSTOR ANÍBAL\\n\\n18\\n\\nTULMO TIPANTUÑA SEGUNDO FEDERICO\\n\\n19\\n\\nDÍAS YUPNGUI RODRIGO\\n\\n20\\n\\nSALAZAR LOMAS TOBÍAS RAFAEL\\n\\n21\\n\\nJIMÉNEZ AYALA ANTONNY JAVIER\\n\\n22\\n\\nSALAZAR LOMAS CECILIA HIPATIA\\n\\n23\\n\\nCOMINA SARASTI BYRON BOLÍVAR\\n\\n24\\n\\nREYES EDWIN ......\\n\\n25\\n\\nBIBANCO LAVERDE LUIS GERARDO\\n\\n26\\n\\nPACHECO CONSTANTE MANUEL IVÁN\\n\\n27\\n\\nLAVERDE AMORES VERÓNICA MARISOL\\n\\n28\\n\\nSALAZAR JOSÉ FÉLIX\\n\\n29\\n\\nCOMINA ANCHATIPAN  VICTOR ALBERTO\\n\\n30\\n\\nVELÁSQUE LOVATO EDGAR RAFAEL\\n\\n31\\n\\nGARCÍA RIVERA ÁNGEL EDMUNDO\\n\\n32\\n\\nGARCÍA RIVERA ÁNGEL EDMUNDO\\n\\n33\\n\\nCOMINA ANCHATIPAN  VICTOR ALBERTO\\n\\n34\\n\\nFLORES LUISA  ELOISA PIEDAD\\n\\n35\\n\\nSARASTI SAMBONINO NELSON  RAFAEL\\n\\n36\\n\\nLOVATO GALLARDO MARÍA TERESA\\n\\n37\\n\\nVIVAS LOVATO RAÚL MESÍAS\\n\\n38\\n\\nROMERO CELA EDWIN BAYARDO\\n\\n39\\n\\nSARZOSA SEGUNDO NICOLAS\\n\\n40\\n\\nSEGOVIA PADILLA JORGE AMÉRICO\\n\\n41\\n\\nSEGOVIA PADILLA JORGE AMÉRICO\\n\\n42\\n\\nCARMEN  ..............\\n\\n43\\n\\nJORGE GUATO .....\\n\\n44\\n\\nSARZOSA MARÍA CARMEN\\n\\n45\\n\\nROMERO AMABLE ......\\n\\n46\\n\\nHEREDIA MELIDA ..........\\n\\n47\\n\\nROMERO GUEVARA  AIDA MARÍA\\n\\n48\\n\\nVILLALVA  REINOSO ROCIO NATALY\\n\\n49\\n\\nPAREDES HEREDIA HILDA CONSUELO\\n\\n\\n\\nPRIMER  TURNO (DOMINGO) \\n\\nDE 06H00 HASTA 12H00\\n\\n\\n\\n\\n\\n1\\n\\nBONILLA ANA MARÍA\\n\\n2\\n\\nLAVERDE HINOJOSA HERIBERTO NICOLAS\\n\\n3\\n\\nORBEA BAUTISTA WILSON RAMIRO\\n\\n4\\n\\nCHANGOLISA DÍAS CARLOS ORLANDO\\n\\n5\\n\\nSIMALUISA ALLAUCA  MARÍA NELLY\\n\\n6\\n\\nGUAMANVEGA MARÍA MARGARITA\\n\\n7\\n\\nCHANGOLUISA DÍAS EDGAR MANUEL\\n\\n8\\n\\nVIVAS SARZOSA SEGUNDO JOSÉ\\n\\n9\\n\\nDOLORES GUATO\\n\\n10\\n\\nRIVERA BEDON CARMEN ADELAIDA\\n\\n11\\n\\nPARCELA\\n\\n12\\n\\nESCOBAR UNTUÑA PEDRO PABLO\\n\\n13\\n\\nLAVERDE HINOJOSA HERIBERTO NICOLAS\\n\\n14\\n\\nHEREDEROS DE LAVERDE SALAZAR SEGUNDO PABLO\\n\\n15\\n\\nHEREDEROS DE MARIANA RIVERA\\n\\n16\\n\\nHEREDEROS DE GUILLERMO GUANO\\n\\n17\\n\\nSALAZAR LAVERDE KEVIN SALAZAR\\n\\n18\\n\\nALBAN CÁRDENAS ÁNGEL ERNESTO\\n\\n19\\n\\nLAVERDE HINOJOSA HERIBERTO NICOLAS\\n\\n20\\n\\nCOMINA ROMERO LUIS ROBERTO\\n\\n21\\n\\nSEGOVIA BEDÓN DEGUNDO ANDRÉS\\n\\n22\\n\\nCALERO GUANO SEGUNDO JORGE\\n\\n23\\n\\nGALLARDO CALERO ROSA NELLY\\n\\n24\\n\\nGALLARDO CALERO HILDA TERESA\\n\\n25\\n\\nGALLARDO CALERO JORGE RAÚL\\n\\n26\\n\\nGALLARDO CALERO JAIME LIZANDRO\\n\\n27\\n\\nPASTUÑA PASTUÑA JUAN MANUEL\\n\\n28\\n\\nCOMINA ROMERO FERNANDO GONZALO\\n\\n29\\n\\nHEREDEROS GUANO SARAE CARLOS GUILLERMO ANÍBAL\\n\\n30\\n\\nAMORES MARÍA GLORIA ESPERANZA\\n\\n\\n\\nSEGUNDO TURNO \\n\\n DE 12H00  HASTA  18H00\\n\\n\\n\\n\\n\\n1\\n\\nLOVATO VILLA VÍCTOR MANUEL\\n\\n2\\n\\nLOVATO VILLA JORGE ENRIQUE\\n\\n3\\n\\nLOVATO VILLA LUIS ALONSO\\n\\n4\\n\\nHINOJOSA BONILLA ÁNGEL OSWALDO\\n\\n5\\n\\nHINOJOSA LOVATO AIDA DEL PILAR\\n\\n6\\n\\nHINOJOSA LOVATO JOHANA\\n\\n7\\n\\nHINOJOSA LOVATO DIEGO ROBERTO\\n\\n8\\n\\nHINOJOSDA LOVATO ÁNGEL PÁUL\\n\\n9\\n\\nHINOJOSA LOVATO JUAN GERMAN\\n\\n10\\n\\nGÓMEZ BONILLA CRISTÓBAL ANÍBAL\\n\\n11\\n\\nHERRERA GÓMEZ SANDRA PIEDAD\\n\\n12\\n\\nHINOJOSA LOVATO BLANCA LOURDES\\n\\n13\\n\\nHERRERA GÓMEZ VICTORIA KARINA\\n\\n14\\n\\nHINOJOSA LOVATO BLANCA LOURDES\\n\\n15\\n\\nGÓMEZ BONILLA CRISTÓBAL ANÍBAL\\n\\n16\\n\\nHERRERA HEREDIA MARÍA ISIDORA\\n\\n17\\n\\nLAGLA CHIMBA LUIS\\n\\n18\\n\\nLAGLA CHIMBA MARÍA BEATRIZ\\n\\n19\\n\\nGÓMEZ BONILLA MARÍA ESTHER\\n\\n20\\n\\nCARPIO ALVARADO FRANCIA GABRIELA\\n\\n21\\n\\nGÓMEZ BONILLA MARÍA ESTHER\\n\\n22\\n\\nGÓMEZ BONILLA MARÍA ESTHER\\n\\n23\\n\\nTONATO LOVATO LUIS ANÍBAL\\n\\n24\\n\\nHINOJOSA LOVATO AIDA DEL PILAR\\n\\n25\\n\\nLEMA TACO AMBROCIO\\n\\n26\\n\\nSALAZAR RIVERA PAOLA CAROLINA\\n\\n27\\n\\nHERRERA GÓMEZ NORMA ROSARIO\\n\\n\\n\\n\\n\\nTERCER TURNO\\n\\n DE 18H00 HASTA 24HOO\\n\\n\\n\\n\\n\\n1\\n\\nRIVERA HERRERA EUGENIA TERESA\\n\\n2\\n\\nRIVERA HERRERA ZOILA DEL CARMEN\\n\\n3\\n\\n RIVERA HERRERA ELSA GRACIELA\\n\\n4\\n\\nPOZO JARA MANUEL ANTONIO\\n\\n5\\n\\nLOVATO CELA JOHANA NATALY\\n\\n6\\n\\nLOVATO GALLARDO JOSÉ MIGUEL\\n\\n7\\n\\nVIVAS LOVATO RAÚL MESÍAS\\n\\n8\\n\\nLOVATO CELA JOHANA NATALY\\n\\n9\\n\\nLOVATO GALLARDO CARMEN HORTENCIA\\n\\n10\\n\\nGÓMEZ BONILLA  OSWALDO HERIBERTO\\n\\n11\\n\\nCARPIO ALVARADO FRANCIA GABRIELA\\n\\n12\\n\\nGÓMEZ RUBIO WILSON RENÉ\\n\\n13\\n\\nGOMEZ TOSCANO LADY ANTONIETA\\n\\n14\\n\\nHERRERA GÓMEZ ESTHER JAQUELINE\\n\\n15\\n\\nGOMEZ BONILLA MARÍA ESTHER\\n\\n16\\n\\nHERRERA GÓMEZ ANA CECILIA\\n\\n17\\n\\nHERRERA GÓMEZ BYRON GUSTAVO\\n\\n18\\n\\nGÓMEZ PÁEZ NANCY FABIOLA\\n\\n19\\n\\nGÓMEZ PÁEZ ANA DEL ROCIO\\n\\n20\\n\\nGÓMEZ PÁEZ GLADYS DEL CARMEN\\n\\n21\\n\\nGÓMEZ PÁEZ CARLOS IVÁN\\n\\n22\\n\\nGÓMEZ PÁEZ HUGO HERIBERTO\\n\\n23\\n\\nGÓMEZ BONILLA HILDA PIEDAD\\n\\n\\n\\nR', metadata={'source': '..\\\\data\\\\carpeta3\\\\HORARIOS PARA EL RIEGO DE AGUA megaproyecto ( reformado).docx'})]"
      ]
     },
     "execution_count": 17,
     "metadata": {},
     "output_type": "execute_result"
    }
   ],
   "source": [
    "word_docs"
   ]
  },
  {
   "cell_type": "markdown",
   "metadata": {},
   "source": [
    "## Text splitting\n",
    "\n",
    "Once data has been loaded, it has to be splitted into data chunks to be considered useful in the LLM."
   ]
  },
  {
   "cell_type": "code",
   "execution_count": 4,
   "metadata": {},
   "outputs": [],
   "source": [
    "from langchain.text_splitter import RecursiveCharacterTextSplitter"
   ]
  },
  {
   "cell_type": "code",
   "execution_count": 5,
   "metadata": {},
   "outputs": [],
   "source": [
    "text_splitter = RecursiveCharacterTextSplitter(\n",
    "    chunk_size = 300,\n",
    "    chunk_overlap  = 100,\n",
    "    length_function = len,\n",
    "    add_start_index = True\n",
    ")"
   ]
  },
  {
   "cell_type": "code",
   "execution_count": 6,
   "metadata": {},
   "outputs": [],
   "source": [
    "texts = text_splitter.split_documents(docs)"
   ]
  },
  {
   "cell_type": "markdown",
   "metadata": {},
   "source": [
    "## Text embeddings\n",
    "\n",
    "In this part, the chunks are going to be created into embeddings. "
   ]
  },
  {
   "cell_type": "code",
   "execution_count": 7,
   "metadata": {},
   "outputs": [],
   "source": [
    "from langchain.embeddings import SentenceTransformerEmbeddings"
   ]
  },
  {
   "cell_type": "code",
   "execution_count": 8,
   "metadata": {},
   "outputs": [
    {
     "name": "stderr",
     "output_type": "stream",
     "text": [
      "c:\\Users\\LP00035\\anaconda3\\envs\\openai\\lib\\site-packages\\tqdm\\auto.py:21: TqdmWarning: IProgress not found. Please update jupyter and ipywidgets. See https://ipywidgets.readthedocs.io/en/stable/user_install.html\n",
      "  from .autonotebook import tqdm as notebook_tqdm\n"
     ]
    }
   ],
   "source": [
    "embedding = SentenceTransformerEmbeddings(model_name = 'intfloat/multilingual-e5-base')"
   ]
  },
  {
   "cell_type": "markdown",
   "metadata": {},
   "source": [
    "## Vector database"
   ]
  },
  {
   "cell_type": "code",
   "execution_count": 9,
   "metadata": {},
   "outputs": [],
   "source": [
    "from langchain.vectorstores import Chroma"
   ]
  },
  {
   "cell_type": "markdown",
   "metadata": {},
   "source": [
    "Generate the DB through the embedding"
   ]
  },
  {
   "cell_type": "code",
   "execution_count": 10,
   "metadata": {},
   "outputs": [],
   "source": [
    "NAME_VECTOR_STORE = 'embeddings-mvp'\n",
    "# vectorstore = Chroma.from_documents(documents=texts, embedding=embedding, persist_directory=NAME_VECTOR_STORE)"
   ]
  },
  {
   "cell_type": "markdown",
   "metadata": {},
   "source": [
    "Save the embedding in the disk"
   ]
  },
  {
   "cell_type": "code",
   "execution_count": 11,
   "metadata": {},
   "outputs": [],
   "source": [
    "# vectorstore.persist()"
   ]
  },
  {
   "cell_type": "markdown",
   "metadata": {},
   "source": [
    "Load vector store from the DB"
   ]
  },
  {
   "cell_type": "code",
   "execution_count": 12,
   "metadata": {},
   "outputs": [],
   "source": [
    "vectorstore = Chroma(persist_directory=NAME_VECTOR_STORE, embedding_function=embedding)"
   ]
  },
  {
   "cell_type": "markdown",
   "metadata": {},
   "source": [
    "## Retrieval object\n",
    "\n",
    "This object helps to get objects that are most likely to answer a question"
   ]
  },
  {
   "cell_type": "code",
   "execution_count": 13,
   "metadata": {},
   "outputs": [],
   "source": [
    "from langchain.chains import RetrievalQAWithSourcesChain\n",
    "from langchain.retrievers.document_compressors import EmbeddingsFilter\n",
    "from langchain.retrievers import ContextualCompressionRetriever"
   ]
  },
  {
   "cell_type": "code",
   "execution_count": 14,
   "metadata": {},
   "outputs": [],
   "source": [
    "embeddings_filter = EmbeddingsFilter(embeddings=embedding, similarity_threshold=0.75)\n",
    "retriever = vectorstore.as_retriever()"
   ]
  },
  {
   "cell_type": "code",
   "execution_count": 15,
   "metadata": {},
   "outputs": [],
   "source": [
    "compression_retriever = ContextualCompressionRetriever(base_compressor=embeddings_filter, base_retriever=retriever)"
   ]
  },
  {
   "cell_type": "code",
   "execution_count": 16,
   "metadata": {},
   "outputs": [],
   "source": [
    "query = \"En donde se aprueba la renovacion de la licencia de Encode SA\"\n",
    "documents = compression_retriever.get_relevant_documents(query)"
   ]
  },
  {
   "cell_type": "markdown",
   "metadata": {},
   "source": [
    "## LLM integration"
   ]
  },
  {
   "cell_type": "code",
   "execution_count": 17,
   "metadata": {},
   "outputs": [],
   "source": [
    "from langchain.chat_models import ChatOpenAI"
   ]
  },
  {
   "cell_type": "code",
   "execution_count": 18,
   "metadata": {},
   "outputs": [],
   "source": [
    "# load openai key\n",
    "with open('../openaikey.txt', \"r\") as file:\n",
    "    # Read the contents of the file\n",
    "    OPENAI_KEY = file.read()"
   ]
  },
  {
   "cell_type": "code",
   "execution_count": 19,
   "metadata": {},
   "outputs": [],
   "source": [
    "llm = ChatOpenAI(openai_api_key=OPENAI_KEY, model_name='gpt-3.5-turbo', temperature=0, max_tokens=250)"
   ]
  },
  {
   "cell_type": "markdown",
   "metadata": {},
   "source": [
    "Define an schema for the conversation"
   ]
  },
  {
   "cell_type": "code",
   "execution_count": 20,
   "metadata": {},
   "outputs": [],
   "source": [
    "from langchain.schema import SystemMessage, HumanMessage, AIMessage"
   ]
  },
  {
   "cell_type": "code",
   "execution_count": 21,
   "metadata": {},
   "outputs": [],
   "source": [
    "def message_processing(input):\n",
    "    message = [\n",
    "    SystemMessage(content='Hello, I am a chatbot of the company ... localizada en Argentina. Mi objetivo es ayudarte a encontrar información en tus documentos disponibles.'),\n",
    "    HumanMessage(content=input),\n",
    "    ]\n",
    "    res = llm(message)\n",
    "    return res"
   ]
  },
  {
   "cell_type": "code",
   "execution_count": 22,
   "metadata": {},
   "outputs": [],
   "source": [
    "query = \"En donde se aprueba la renovacion de la licencia de ..., por favor dame documentos de soporte\""
   ]
  },
  {
   "cell_type": "code",
   "execution_count": 23,
   "metadata": {},
   "outputs": [
    {
     "data": {
      "text/plain": [
       "AIMessage(content='Lamentablemente, como chatbot, no tengo acceso directo a los documentos de Encode S.A. ni puedo buscar información específica sobre la renovación de licencias de la empresa. Te recomendaría contactar directamente a Encode S.A. para obtener la información que necesitas.', additional_kwargs={}, example=False)"
      ]
     },
     "execution_count": 23,
     "metadata": {},
     "output_type": "execute_result"
    }
   ],
   "source": [
    "message_processing(query)"
   ]
  },
  {
   "cell_type": "markdown",
   "metadata": {},
   "source": [
    "Define an structure to get the source"
   ]
  },
  {
   "cell_type": "code",
   "execution_count": 24,
   "metadata": {},
   "outputs": [],
   "source": [
    "from langchain.chains import RetrievalQAWithSourcesChain"
   ]
  },
  {
   "cell_type": "code",
   "execution_count": 25,
   "metadata": {},
   "outputs": [],
   "source": [
    "from langchain.chains import RetrievalQAWithSourcesChain\n",
    "from langchain.llms import OpenAI"
   ]
  },
  {
   "cell_type": "code",
   "execution_count": 26,
   "metadata": {},
   "outputs": [],
   "source": [
    "chain = RetrievalQAWithSourcesChain.from_chain_type(OpenAI(temperature=0,  openai_api_key = OPENAI_KEY), chain_type=\"stuff\", retriever= compression_retriever)"
   ]
  },
  {
   "cell_type": "code",
   "execution_count": 27,
   "metadata": {},
   "outputs": [],
   "source": [
    "answer_1=chain({\"question\": query})"
   ]
  },
  {
   "cell_type": "code",
   "execution_count": 28,
   "metadata": {},
   "outputs": [
    {
     "data": {
      "text/plain": [
       "{'question': 'En donde se aprueba la renovacion de la licencia de Encode SA, por favor dame documentos de soporte',\n",
       " 'answer': ' La renovación de la licencia de Encode SA se aprueba por la Resolución Nº 946/2021 de la Secretaria de Innovación Pública.\\n',\n",
       " 'sources': '..\\\\data\\\\carpeta2\\\\ENCODE Manual de Procedimientos de Certificacion Publico v1.12.pdf, ..\\\\data\\\\carpeta3\\\\renovacion-de-la-licencia-del-certificador-licenciado-encodesa.pdf, https://www.boletinoficial.gob.ar/#!DetalleNorma/268174/20220808'}"
      ]
     },
     "execution_count": 28,
     "metadata": {},
     "output_type": "execute_result"
    }
   ],
   "source": [
    "answer_1"
   ]
  },
  {
   "cell_type": "code",
   "execution_count": 29,
   "metadata": {},
   "outputs": [],
   "source": [
    "sources = answer_1['sources']\n",
    "sources = sources.split(',')\n",
    "sources = [i.strip() for i in sources]"
   ]
  },
  {
   "cell_type": "code",
   "execution_count": 30,
   "metadata": {},
   "outputs": [],
   "source": [
    "metadata_final = []\n",
    "\n",
    "for source in sources:\n",
    "    for document in documents:\n",
    "        if source in document.metadata['source']:\n",
    "            metadata_final.append({'document': source, 'page': document.metadata['page']})\n"
   ]
  },
  {
   "cell_type": "code",
   "execution_count": 31,
   "metadata": {},
   "outputs": [
    {
     "data": {
      "text/plain": [
       "[{'document': '..\\\\data\\\\carpeta2\\\\ENCODE Manual de Procedimientos de Certificacion Publico v1.12.pdf',\n",
       "  'page': 11},\n",
       " {'document': '..\\\\data\\\\carpeta2\\\\ENCODE Manual de Procedimientos de Certificacion Publico v1.12.pdf',\n",
       "  'page': 66},\n",
       " {'document': '..\\\\data\\\\carpeta3\\\\renovacion-de-la-licencia-del-certificador-licenciado-encodesa.pdf',\n",
       "  'page': 2}]"
      ]
     },
     "execution_count": 31,
     "metadata": {},
     "output_type": "execute_result"
    }
   ],
   "source": [
    "metadata_final"
   ]
  },
  {
   "cell_type": "code",
   "execution_count": 32,
   "metadata": {},
   "outputs": [],
   "source": [
    "def get_document_information_retrieval(query, chain, retriever):\n",
    "    answer_1 = chain({\"question\": query})\n",
    "    final_text = answer_1['answer']\n",
    "    sources = answer_1['sources']\n",
    "    sources = sources.split(',')\n",
    "    sources = [i.strip() for i in sources]\n",
    "    documents = retriever.get_relevant_documents(query)\n",
    "    document_info_dict = {}\n",
    "    document_counter = 1\n",
    "\n",
    "    for source in sources:\n",
    "        for document in documents:\n",
    "            if source in document.metadata['source']:\n",
    "                if source in document_info_dict:\n",
    "                    document_info_dict[source]['pages'].append(document.metadata['page'])\n",
    "                else:\n",
    "                    document_info_dict[source] = {'document': source, 'pages': [document.metadata['page']]}\n",
    "                    \n",
    "    document_info = ', '.join([f\"Document #{document_counter} :'{entry['document']}', pages: {', '.join(map(str, entry['pages']))}\" for entry in document_info_dict.values()])\n",
    "    final_response = f\"{final_text}\\n\\nPlease check the following documents for more information: {document_info}.\"\n",
    "\n",
    "    return final_response        "
   ]
  },
  {
   "cell_type": "code",
   "execution_count": 33,
   "metadata": {},
   "outputs": [],
   "source": [
    "a = get_document_information_retrieval(query, chain, compression_retriever)"
   ]
  },
  {
   "cell_type": "code",
   "execution_count": 34,
   "metadata": {},
   "outputs": [
    {
     "data": {
      "text/plain": [
       "[_DocumentWithState(page_content='autoridad de aplicación en el momento del licenciamiento de ENCODE S.A., tomando en cuenta finalmente el\\ncompromiso reflejado allí por parte del Certificador Licenciado para subsanar cuestiones de índole\\ntécnico/administrativas que en el informe se señalan.', metadata={'page': 1, 'source': '..\\\\data\\\\carpeta3\\\\renovacion-de-la-licencia-del-certificador-licenciado-encodesa.pdf', 'start_index': 2955}, state={'embedded_doc': [-0.005786222405731678, 0.032586727291345596, -0.02060757763683796, 0.01574745401740074, 0.025773899629712105, -0.04173695296049118, -0.032051365822553635, -0.048708826303482056, 0.02789979800581932, -0.007466250564903021, 0.014861345291137695, 0.025983065366744995, 0.07594884186983109, 0.07626070827245712, -0.04439229518175125, -0.033620309084653854, 0.01753144897520542, 0.0099038602784276, 0.05329211801290512, 0.005059891380369663, 0.016598889604210854, -0.03851846978068352, 0.03408048301935196, -0.04176807776093483, 0.033639054745435715, -0.025115299969911575, -0.015444230288267136, 0.039036475121974945, -0.034448400139808655, 0.05462082847952843, 0.011016094125807285, -0.01205424964427948, 0.04017636552453041, 0.002379952697083354, 0.011696959845721722, 0.04852815717458725, -0.028864076361060143, -0.04281459376215935, 0.023633748292922974, 0.04001268744468689, 0.051003217697143555, 0.018481144681572914, -0.015848679468035698, -0.010839948430657387, -0.00532153295353055, -0.03217310085892677, 0.043267495930194855, 0.043921224772930145, -0.031869325786828995, -0.029807938262820244, 0.0217689648270607, -0.018725845962762833, 0.053194403648376465, 0.04335581511259079, -0.06056921184062958, -0.03397676348686218, 0.00620895205065608, 0.03965425118803978, -0.03057963401079178, 0.00888130534440279, -0.01737523265182972, 0.029960589483380318, -0.050520092248916626, 0.033779773861169815, 0.027829140424728394, -0.0254779364913702, 0.020636780187487602, -0.02182580716907978, -0.02442912757396698, -0.0194145105779171, 0.0068375482223927975, -0.0424141064286232, 0.07840283215045929, -0.011076497845351696, -0.03349265456199646, -0.0013463853392750025, -0.038262974470853806, 0.004270313773304224, -0.01563214883208275, -0.018239235505461693, 0.04285481944680214, 0.03530461713671684, 0.013293653726577759, 0.02742544375360012, 0.02389325574040413, -0.02327992022037506, -0.001571446773596108, 0.037629641592502594, 0.052688118070364, 0.032806746661663055, 0.024496568366885185, -0.035134535282850266, -0.04055782034993172, -0.0072749885730445385, -0.01788347214460373, 0.051508720964193344, 0.02900862693786621, 0.012542483396828175, 0.02386035956442356, -0.061532676219940186, -0.011881140992045403, -0.04568254202604294, -0.048359956592321396, -0.06453435122966766, -0.06967021524906158, 0.008142229169607162, -0.01946876384317875, -0.03567199781537056, 0.04828707128763199, -0.006689600180834532, -0.04944785684347153, 0.04024761542677879, 0.03597165644168854, -0.060922667384147644, 0.031478848308324814, -0.004435146693140268, 0.018379025161266327, -0.02230091020464897, 0.008077653124928474, -0.04235740378499031, 0.002755542751401663, 0.03292551636695862, -0.03996574506163597, -0.019717080518603325, 0.03655010461807251, -0.0003379917179699987, -0.01043734885752201, -0.014445175416767597, 0.014054729603230953, -0.07622301578521729, -0.011811193078756332, -0.056807197630405426, -0.01437422726303339, -0.005748436786234379, -0.03024054504930973, 0.05472901836037636, 0.026212742552161217, 0.04483179375529289, -0.029127342626452446, -0.022150393575429916, -0.004061478190124035, -0.06461350619792938, -0.02354593388736248, 0.017402226105332375, 0.05345703661441803, -0.08287569880485535, -0.006220929324626923, 0.036180224269628525, -0.01355962734669447, 0.02557630091905594, 0.03725924715399742, -0.007347306702286005, -0.008504761382937431, -0.023160960525274277, 0.013941053301095963, -0.000657750410027802, -0.0219032634049654, -0.02388652041554451, -0.009057735092937946, 0.0162840373814106, 0.04716334119439125, 0.01954866200685501, 0.018315522000193596, -0.02352786436676979, 0.05527621507644653, -0.0007492406875826418, 0.024777701124548912, 0.03717498853802681, -0.039439812302589417, -0.02817191742360592, -0.022126425057649612, -0.03900230675935745, -0.05060402303934097, 0.007643524091690779, 0.02108019031584263, -0.03578293323516846, -0.05438213795423508, -0.057668086141347885, -0.0001381278852932155, -0.042025670409202576, -0.03171642869710922, -0.03507060185074806, -0.025524798780679703, 0.02477923221886158, -0.011399985291063786, -0.029789982363581657, -0.01585470139980316, -0.024026429280638695, 0.030647825449705124, -0.009438618086278439, -0.018370749428868294, 0.06584160774946213, 0.01925981417298317, 0.035316113382577896, 0.029305214062333107, 0.012319594621658325, 0.055877622216939926, -0.01734546571969986, -0.030760828405618668, -0.03745080158114433, 0.028470689430832863, -0.016816461458802223, 0.06056639552116394, 0.01702636480331421, -0.003497316502034664, -0.06762446463108063, 0.02854173444211483, 0.0766223892569542, 0.02436891943216324, 0.015658702701330185, -0.005147281568497419, 0.03741275519132614, -0.018176494166254997, 0.02510763518512249, -0.002273478312417865, -0.09130571037530899, 0.030607920140028, 0.02742048352956772, -0.03585577756166458, 0.052746690809726715, 0.03552258014678955, -0.061263758689165115, 0.06203446909785271, 0.02067253179848194, -0.015430282801389694, 0.012145898304879665, 0.02538280002772808, -0.027938686311244965, 0.018695935606956482, 0.04258213937282562, 0.028712742030620575, 0.040867529809474945, -0.050891976803541183, 0.03626018390059471, -0.06129741668701172, -0.025778651237487793, 0.07811957597732544, -0.007666571065783501, -0.06399580836296082, -0.1292785257101059, -0.010448151268064976, 0.006226828321814537, 0.020274320617318153, -0.02399327978491783, 0.053068362176418304, -0.01080850325524807, -0.029008278623223305, 0.0439106710255146, -0.07426472008228302, 0.02016087807714939, 0.00990168284624815, -0.030778715386986732, 0.016935743391513824, -0.0253161508589983, 0.05406976863741875, 0.034201230853796005, -0.05332726612687111, 0.008718475699424744, 0.008356306701898575, -0.024216745048761368, -0.00749977957457304, -0.05024375766515732, 0.004390493035316467, -0.03852664679288864, 0.011001907289028168, -0.037652499973773956, 0.08379209041595459, -0.034489478915929794, -0.017278652638196945, -0.008004340343177319, -0.019993964582681656, -0.007138348184525967, -0.027713114395737648, 0.04909921810030937, 0.012267876416444778, -0.03343311697244644, -0.04691586643457413, 0.011383462697267532, -0.022794395685195923, -0.012532774358987808, -0.019142089411616325, 0.05464830622076988, -0.04207730293273926, -0.004978793207556009, -0.04260502755641937, -0.0053348783403635025, -0.04095802083611488, -0.010802101343870163, -0.06652672588825226, 0.006409935653209686, 0.0582592748105526, 0.09764529764652252, -0.000725652149412781, 0.0212697871029377, 0.025647949427366257, 0.02863353304564953, 0.032616522163152695, 0.037231676280498505, -0.0045540728606283665, -0.013425287790596485, -0.01609693095088005, -0.03665442764759064, 0.02075871452689171, -0.05313701555132866, -0.008695300668478012, 0.015285764820873737, 0.10342986136674881, 0.020288825035095215, -0.05494006723165512, 0.0440315380692482, -0.0409478098154068, 0.005142416339367628, 0.020868375897407532, 0.05337386205792427, -0.00018161418847739697, -0.017883699387311935, 0.0064011067152023315, 0.06855367869138718, 0.0015498031862080097, 0.009425350464880466, 0.0015308922156691551, 0.03290459141135216, -0.030079467222094536, -0.027974938973784447, 0.036057859659194946, -0.011013031005859375, 0.018368052318692207, 0.0024330182932317257, 0.03196995332837105, -0.0025161714293062687, -0.03910937160253525, 0.02671564556658268, -0.023674029856920242, 0.03602201119065285, -0.09857366979122162, 0.014603200368583202, -0.02351183444261551, -0.062120988965034485, 0.05108829215168953, 0.01562383770942688, -0.04311785846948624, 0.0546773336827755, 0.05859476700425148, 0.005502771120518446, 0.06845355033874512, -0.06357483565807343, -0.0033897815737873316, -0.0028910180553793907, -0.02779833786189556, 0.03815987706184387, 0.012341214343905449, -0.047394778579473495, 0.03591841086745262, -0.05084383115172386, -0.016514066606760025, 0.017232820391654968, 0.0033111777156591415, -0.020770713686943054, -0.039423760026693344, -0.02130042389035225, -0.025638289749622345, 0.026625631377100945, 0.004477259237319231, -0.030712595209479332, 0.006572892889380455, 0.018858931958675385, -0.019612161442637444, -0.00921239610761404, 0.01914377324283123, -0.03153802454471588, 0.09043543040752411, 0.04188540577888489, -0.0017476488137617707, -0.007378268521279097, 0.02460826188325882, -0.01168842799961567, 0.02295728586614132, -0.05046017840504646, -0.00631614588201046, 0.006059527397155762, 0.04697827249765396, 0.04555942118167877, 0.03841758146882057, 0.01596103049814701, -0.044444743543863297, 0.0029075562488287687, 0.05457041412591934, -0.03846297413110733, 0.06346611678600311, -0.009255468845367432, 0.06414395570755005, -0.02498200163245201, -0.04143786430358887, 0.028555000200867653, 0.011854852549731731, 0.0007650268962606788, -0.0012023631716147065, -0.009936065413057804, 0.04543221369385719, -0.005147629417479038, 0.05068689212203026, 0.050578199326992035, 0.009478488937020302, 0.05557067692279816, 0.029452433809638023, 0.05890284851193428, -0.02021062560379505, 0.04675775021314621, -0.004782965872436762, -0.0026035390328615904, 0.048986878246068954, -0.015229030512273312, 0.04058769345283508, -0.006230894010514021, 0.029533669352531433, -0.011221436783671379, -0.006958994083106518, 0.004813322331756353, 0.012803140096366405, 0.01644754596054554, -0.019037315621972084, 0.06351333856582642, 0.02353701926767826, 0.009540960192680359, 0.017627781257033348, -0.08839497715234756, -0.005200621671974659, -0.010345797054469585, 0.019171716645359993, -0.016597187146544456, -0.017132673412561417, 0.027219081297516823, -0.007576679345220327, 0.020497282966971397, 0.013384741730988026, -0.046909864991903305, 0.010090342722833157, 0.017405357211828232, -0.014766342006623745, -0.003393715713173151, 0.014693859964609146, -0.0014574398519471288, 0.018749218434095383, -0.018564630299806595, -0.036744050681591034, -0.013159475289285183, -0.028389502316713333, -0.005953600630164146, -0.039631664752960205, -0.02561299130320549, 0.024995841085910797, 0.016319965943694115, 0.02161283977329731, -0.009644098579883575, 0.0335998460650444, -0.018491387367248535, 0.029147883877158165, 0.018875030800700188, -0.002091432921588421, -0.1495962291955948, 0.04063811153173447, 0.07466833293437958, -0.026064572855830193, 0.008900594897568226, -0.01570954918861389, -0.07935577630996704, 0.018511682748794556, -0.038117293268442154, 0.03716939687728882, -0.046231161803007126, 0.007448856253176928, -0.010208655148744583, 0.0370495468378067, 0.009705839678645134, 0.06448715925216675, 0.021298693493008614, -0.008570242673158646, 0.022075887769460678, 0.043248508125543594, -0.022706707939505577, 0.00760966632515192, -0.044695209711790085, -0.0009079901501536369, 0.0209908839315176, 0.015736645087599754, 0.02068987302482128, -0.1133415475487709, 0.012705821543931961, 0.010947810485959053, -0.02352367900311947, -0.03442130610346794, 0.03227807208895683, 0.006822694092988968, 0.005425712559372187, 0.0019856486469507217, 0.01701323129236698, -0.03266694396734238, -0.04810997471213341, 0.027502859011292458, 0.017574118450284004, -0.02661214955151081, -0.012242349795997143, -0.03114631026983261, 0.007444627117365599, -0.052392732352018356, 0.02504483051598072, -0.006388876587152481, 0.016361288726329803, 0.010075759142637253, -0.013036632910370827, 0.058588869869709015, -0.029910851269960403, -0.03005308099091053, -0.009448079392313957, 0.00841749832034111, 0.0180992279201746, -0.009873222559690475, 0.00783779751509428, 0.003721232758834958, -0.029892899096012115, -0.05188111215829849, -0.02462240867316723, -0.054834090173244476, -0.014228818006813526, 0.03210070729255676, -0.04432985186576843, 0.051008954644203186, -0.04624112322926521, 0.03545236960053444, -0.023737702518701553, 0.011700657196342945, -0.03922804072499275, 0.059669382870197296, -0.06828176975250244, -0.029596896842122078, 0.0075790476985275745, -0.010153978131711483, -0.0007492531440220773, 0.05420573800802231, 0.012755265459418297, -0.015678802505135536, -0.009138301946222782, 0.05343656241893768, -0.024508630856871605, 0.005232679191976786, -0.020692024379968643, -0.005837108939886093, -0.035135239362716675, -0.01238138135522604, -0.006176747381687164, 0.02155015617609024, -0.00594905624166131, 0.01939481496810913, 0.0757908821105957, -0.0431908518075943, 0.025749091058969498, 0.010679304599761963, 0.0064848316833376884, 0.03366765007376671, -0.0007214456563815475, 0.028538748621940613, -0.009165364317595959, 0.020064685493707657, 0.043124955147504807, 0.005636296700686216, 0.01882955990731716, 0.0276879221200943, -0.0009571000118739903, -0.04309510067105293, 0.04411973059177399, -0.05771714076399803, 0.013801601715385914, 0.019593141973018646, 0.0008863109396770597, 0.031242696568369865, 0.0035722667817026377, -0.010740933939814568, -0.04023169353604317, 0.05600125715136528, -0.04727090522646904, -0.04383118078112602, -0.02097967080771923, 0.024675512686371803, 0.03724489361047745, 0.04158049076795578, 0.02087833546102047, 0.03324379399418831, 0.042799681425094604, -0.21252025663852692, 0.02698979713022709, -0.021801160648465157, 0.006785195786505938, 0.026826929301023483, 0.03154541179537773, 0.022295566275715828, -0.02089804783463478, 0.034510012716054916, 0.017756665125489235, 0.04280051216483116, -0.05591908469796181, 0.017510544508695602, -0.0647556483745575, -0.04641752690076828, 0.023133041337132454, 0.0017005209811031818, -0.05103037878870964, 0.00892467238008976, 0.02986772358417511, -0.015848565846681595, 0.04759027436375618, -0.04319436475634575, -0.016820253804326057, -0.005939579103142023, -0.060524486005306244, -0.009586825035512447, 0.04798271134495735, 0.03033602237701416, 0.012913723476231098, 0.024203866720199585, 0.00010605215356918052, 0.02500077337026596, 0.03954121470451355, -0.026582276448607445, -0.019914759323000908, -0.04786020517349243, 0.021744590252637863, -0.10853096097707748, 0.08070749044418335, -0.005241625476628542, -0.05693932622671127, -0.06258424371480942, -0.004669457674026489, -0.00733973179012537, 0.09070319682359695, 0.037892311811447144, 0.031489308923482895, -0.009847419336438179, -0.0038934415206313133, 0.014370487071573734, 0.004384899977594614, -0.08067456632852554, -0.007523651700466871, -0.021877700462937355, 0.024255231022834778, 0.031150272116065025, 0.014037607237696648, 0.050598420202732086, 0.012902711518108845, 0.007377319037914276, 0.03943808004260063, -0.04161578044295311, 0.02282274328172207, -0.03228144347667694, 0.006068285088986158, 0.05432804301381111, -0.03407613933086395, -0.03291461244225502, -0.015905052423477173, 0.02191874198615551, -0.03252604603767395, -0.03883229196071625, 0.006494069471955299, 0.027584785595536232, -0.014750370755791664, 0.00771126477047801, 0.018259692937135696, -0.0629403293132782, 0.022409550845623016, -0.07858028262853622, -0.07549537718296051, -0.03805400803685188, 0.008804199285805225, -0.01132138166576624, -0.012316195294260979, -0.022463183850049973, 0.0001727745111566037, 0.018586771562695503, 0.031199807301163673, -0.03501243516802788, 0.021505679935216904, 0.002800083952024579, -0.013645838014781475, 0.0190555639564991, -0.04390227049589157, -0.04515383392572403, 0.03461620584130287, 0.011456569656729698, -0.026065533980727196, 0.03646714240312576, -0.0012473142705857754, -0.024989686906337738, 0.08496492356061935, 0.01082665380090475, -0.037195030599832535, -0.08841057866811752, 0.024945352226495743, -0.040430016815662384, -0.004807747434824705, 0.03487299382686615, 0.027210144326090813, 0.0416952408850193, -0.00238311430439353, 0.013907510787248611, -0.02048621140420437, 0.027449527755379677, 0.01119634322822094, -0.02648710273206234, -0.02084691822528839, -0.02932710014283657, -0.0204628873616457, 0.03271825984120369, -0.007163489703088999, 0.04443661496043205, -0.0013350916560739279, -0.021512961015105247, 0.03537042811512947, 0.0023400827776640654, 0.025359459221363068, -0.026470502838492393, -0.06050996482372284, 0.022542819380760193, -0.007001738529652357, -0.023483075201511383, 0.00042479997500777245, 0.0025960318744182587, -0.013961919583380222, 0.030677204951643944, 0.0043395948596298695, 0.04139073193073273, -0.06533655524253845, -0.016856683418154716, 0.04532071575522423, -0.017323553562164307, -0.032460857182741165, -0.0033907354809343815, -0.03070840798318386, 0.0037756466772407293, -0.0029753551352769136, -0.009737460874021053, -0.05633598938584328, -0.0010386606445536017, -0.015191387385129929, -0.017499295994639397, 0.04173820838332176, 0.027671432122588158, 0.013439018279314041, 0.019531404599547386, 0.055148761719465256, -0.010835917666554451, -0.06916455179452896, 0.01165149174630642, -0.0016700481064617634, 0.007860436104238033, -0.021784529089927673, -0.009912939742207527, -0.02380070835351944, -0.004482616204768419, 0.02854664996266365, -0.0417403019964695, -0.014456134289503098, 0.01899431087076664, -0.03329884633421898, 0.010324076749384403, 0.020150084048509598, 0.09767937660217285, -0.029956432059407234, -0.06422972679138184, 0.037707481533288956]}),\n",
       " _DocumentWithState(page_content='modificatorios, la Resolución Nº 946/2021 de la Secretaria de Innovación Pública,  la \\nPolítica Única de Certificaci ón de ENCODE S.A. y los documentos relacionados obligatorios, \\nasí como sus modificaciones, deben ser aprobados por el Ente Licenciante de Firma Digital \\nde la República Argentina.', metadata={'page': 11, 'source': '..\\\\data\\\\carpeta2\\\\ENCODE Manual de Procedimientos de Certificacion Publico v1.12.pdf', 'start_index': 316}, state={'embedded_doc': [0.013839958235621452, 0.05068559572100639, -0.0034086136147379875, 0.0368909016251564, 0.03267888352274895, -0.02728184312582016, -0.015823937952518463, -0.05904984846711159, 0.02666601911187172, -0.0024255290627479553, -0.021510431542992592, -0.011572313494980335, 0.10734081268310547, 0.0396861732006073, -0.04937641695141792, -0.029421526938676834, 0.04195467382669449, -0.02321956306695938, 0.04913685843348503, 0.029826859012246132, 0.017341548576951027, -0.05050941929221153, 0.06032923236489296, -0.03678794950246811, 0.031260259449481964, 0.006562497932463884, 0.010741754435002804, 0.06937211751937866, 0.0011023757979273796, 0.02260671928524971, 0.008801448158919811, -0.003798192134127021, 0.02617906965315342, 0.01504629198461771, 0.06264004856348038, 0.038430873304605484, -0.036601703613996506, -0.020470881834626198, 0.030575960874557495, 0.03362344950437546, 0.048945989459753036, 0.0109730688855052, -0.004635980818420649, -0.01768898032605648, 0.012882040813565254, -0.050208065658807755, 0.036789119243621826, 0.04357907921075821, -0.02766159363090992, -0.027636094018816948, 0.00500137684866786, 7.920302596176043e-05, 0.04564936086535454, 0.040777258574962616, -0.0331573449075222, 0.001580387121066451, 0.005115283653140068, 0.06382350623607635, -0.027475478127598763, 0.024987511336803436, 0.0056987302377820015, 0.0534246563911438, -0.0600157268345356, 0.02038847841322422, 0.033810414373874664, -0.03299592435359955, 0.00961290393024683, -0.023980697616934776, 0.0042214528657495975, -0.03627491369843483, -0.0026053248438984156, -0.028157956898212433, 0.08631686866283417, -0.019479764625430107, -0.04594568535685539, -0.007421823684126139, -0.04006076976656914, 0.02504623681306839, -0.0318872444331646, -0.03280308097600937, 0.035052455961704254, 0.021878741681575775, 0.02730182372033596, 0.02795935422182083, 0.00571567052975297, -0.00020268069056328386, -0.021904530003666878, 0.034769974648952484, 0.0194020364433527, 0.03708845376968384, 0.025014175102114677, -0.021706348285079002, -0.05597936734557152, -0.00346518587321043, 0.023711156100034714, 0.015031573362648487, 0.036451343446969986, -0.004513642750680447, 0.025091124698519707, -0.0624210350215435, -0.007896797731518745, -0.06802035123109818, -0.052347440272569656, -0.0772174596786499, -0.050564490258693695, 0.0018010921776294708, -0.014413266442716122, -0.019821658730506897, 0.026360075920820236, -0.0120107252150774, -0.03488117828965187, 0.04218818619847298, 0.03585140407085419, -0.049192801117897034, 0.04172082617878914, 0.005159694701433182, 0.015616382472217083, -0.0356445237994194, 0.018206654116511345, -0.058176685124635696, 0.01783415488898754, 0.023982016369700432, -0.0014722109772264957, -0.024616708979010582, 0.045785218477249146, -0.021579885855317116, 0.017651155591011047, -0.06377901136875153, 0.018017297610640526, -0.054150089621543884, -0.014644309878349304, -0.030089056119322777, -0.014803394675254822, -0.0047862594947218895, -0.04559818655252457, 0.04393427073955536, 0.012492765672504902, 0.04763036593794823, -0.015158300288021564, -0.01495618000626564, 0.004825514741241932, -0.07019345462322235, -0.018730154260993004, 0.03717662766575813, 0.040689416229724884, -0.0723818689584732, -0.0024600676260888577, 0.014875248074531555, -0.024599159136414528, 0.004621206317096949, 0.03337489441037178, -0.021021395921707153, -0.014808653853833675, -0.03698708489537239, 0.03051522932946682, -0.006961909122765064, -0.0027993586845695972, -0.014844264835119247, -0.02832549251616001, 0.01768728531897068, 0.06502427160739899, 0.04740722104907036, -0.01668628491461277, -0.015167733654379845, 0.03323689475655556, -0.029083285480737686, 0.012567970901727676, 0.03710903599858284, -0.04672228544950485, -0.011292715556919575, -0.0014914862113073468, -0.031996868550777435, -0.060344573110342026, 0.04568186774849892, 0.02199012227356434, -0.01873856782913208, -0.04573354125022888, -0.039605140686035156, 0.0074477288872003555, -0.048761576414108276, -0.025603026151657104, -0.0253748819231987, -0.04406660422682762, 0.024300657212734222, -0.008255290798842907, -0.0009581621270626783, 0.0037356934044510126, -0.03266296163201332, 0.06625288724899292, -0.012749743647873402, -0.006543752737343311, 0.06927366554737091, 0.005847853608429432, 0.03245425969362259, 0.04052038863301277, 0.016381150111556053, 0.05337889865040779, 0.008549682796001434, -0.02364266663789749, -0.04504208266735077, 0.03801148384809494, -0.029228486120700836, 0.0536472462117672, 0.03345959261059761, 0.016429603099822998, -0.04351375997066498, 0.014313590712845325, 0.07843979448080063, 0.05024268105626106, 0.008905341848731041, -0.0013124828692525625, 0.03310076519846916, -0.05478038266301155, 0.008953742682933807, -0.008576509542763233, -0.06775569915771484, -0.004121644422411919, 0.007924456149339676, -0.056981977075338364, 0.04598911479115486, 0.041377175599336624, -0.03471427038311958, 0.06221660226583481, 0.010601500980556011, -0.031534645706415176, 0.020627569407224655, 0.026039348915219307, -0.008171589113771915, 0.03805842623114586, 0.025892144069075584, 0.059109169989824295, 0.02237122133374214, -0.06604386121034622, 0.05338030681014061, -0.03877964988350868, -0.03807570040225983, 0.045842599123716354, 0.01374472863972187, -0.035259317606687546, -0.11538154631853104, -0.03422992303967476, -0.014968953095376492, -0.0157997515052557, -0.022719159722328186, 0.03419654816389084, -0.010573018342256546, -0.03890180215239525, 0.046609777957201004, -0.07376077026128769, 0.04592564329504967, 0.010451952926814556, -0.03725243732333183, 0.028647160157561302, -0.03307086601853371, 0.03864043951034546, 0.06246663257479668, -0.053444754332304, 0.006500368472188711, 0.02559569664299488, 0.010418365709483624, 0.002350487280637026, -0.035060733556747437, -0.0119229881092906, -0.023252805694937706, 0.02211025357246399, -0.043140705674886703, 0.0683940201997757, -0.007706445641815662, -0.03570283576846123, -0.011866249144077301, -0.0011160061694681644, 0.009710442274808884, -0.0429084375500679, 0.0375487357378006, 0.012106689624488354, -0.041875917464494705, -0.037628285586833954, -0.002854932565242052, 0.012846576049923897, -0.009409163147211075, -0.029544109478592873, 0.053773291409015656, -0.04403529316186905, -0.014104710891842842, -0.015066730789840221, -0.012142820283770561, -0.06197788566350937, 0.004877873696386814, -0.0660611167550087, 0.018398217856884003, 0.006809098180383444, 0.10063377767801285, 0.005768266506493092, 0.008800242096185684, 0.06553354859352112, 0.047312404960393906, 0.03219800814986229, 0.02665407583117485, -0.01840597204864025, -0.006721353158354759, -0.0045496937818825245, -0.037147920578718185, 0.03574899956583977, -0.05908919498324394, -0.005076331086456776, 0.01782144233584404, 0.0857679545879364, 0.006666603963822126, -0.0726994052529335, 0.035299889743328094, -0.03833595663309097, -0.006843583192676306, 0.0161014124751091, 0.006696796510368586, 0.025624826550483704, -0.03923844173550606, 0.010568911209702492, 0.06344140321016312, 0.010658157989382744, 0.022192910313606262, 0.015309521928429604, -0.002910209121182561, -0.02893012948334217, -0.00987101998180151, 0.02558266930282116, -0.0077501581981778145, 0.01705624908208847, 0.01539992168545723, 0.07947540283203125, -0.014769937843084335, -0.045379992574453354, 0.03614882379770279, -0.023555532097816467, 0.05289079621434212, -0.12456616014242172, 0.006015265826135874, -0.00789759773761034, -0.06232967600226402, 0.06472545862197876, 0.022530274465680122, -0.013676577247679234, 0.03310609236359596, 0.05725356563925743, -0.030393322929739952, 0.07692113518714905, -0.04344625025987625, -0.006977052893489599, -0.005573807749897242, -0.041034627705812454, 0.05338209122419357, 0.04055669531226158, -0.07045932114124298, 0.040051959455013275, -0.05360420420765877, -0.02445536106824875, -0.00756942480802536, 0.017314521595835686, -0.012324992567300797, -0.054597269743680954, -0.007638918701559305, -0.028902411460876465, 0.02454051747918129, 0.0010666794842109084, -0.003925879020243883, 0.02599816955626011, 0.01201422605663538, -0.01915276236832142, -0.013089005835354328, 0.016139283776283264, -0.04696255922317505, 0.07819371670484543, 0.013140413910150528, -0.01917964592576027, -0.017285987734794617, 0.02855774573981762, -0.02018129453063011, 0.014587757177650928, -0.013293065130710602, 0.016249310225248337, 0.013032957911491394, 0.046312615275382996, 0.0403173454105854, 0.00484681548550725, 0.01514490693807602, -0.04838278517127037, 0.010191828943789005, 0.036310724914073944, -0.04097432643175125, 0.05582965165376663, -0.0026222451124340296, 0.021613575518131256, -0.01659257709980011, -0.030437419191002846, 0.04434613138437271, 0.015750760212540627, -0.00804018136113882, 0.004163429606705904, -0.009564152918756008, 0.02251155860722065, -0.04386623203754425, 0.054643839597702026, 0.023457374423742294, 0.022356880828738213, 0.04017767310142517, 0.04056469351053238, 0.01156405545771122, 0.002636655932292342, 0.051738135516643524, -0.006331468932330608, -0.040747109800577164, 0.0728280246257782, -0.015904296189546585, 0.06893807649612427, -0.01392262615263462, -0.016075696796178818, -0.02066599577665329, -0.009067664854228497, 0.012160424143075943, 0.017510976642370224, 0.05230622738599777, -0.037085115909576416, 0.0536869615316391, 0.024601437151432037, 0.007487120572477579, 0.03040008619427681, -0.06355676054954529, -0.023691639304161072, -0.016316596418619156, 0.004795263987034559, -0.026926280930638313, -0.009674523025751114, 0.020550433546304703, 0.005107950884848833, 0.01428709551692009, 0.026193512603640556, -0.06945833563804626, -0.003815681906417012, 0.012540170922875404, 0.010215838439762592, 0.0028937344904989004, 0.027918264269828796, -0.02943381294608116, 0.019646823406219482, -0.027895571663975716, -0.020728619769215584, -0.037409864366054535, -0.04539104923605919, 0.009854480624198914, -0.019952762871980667, -0.018646493554115295, 0.01305172499269247, 0.0342910960316658, 0.021548882126808167, -0.032030727714300156, 0.00932252872735262, -0.019271858036518097, 0.04083878919482231, -0.007345868274569511, -0.018747057765722275, -0.12207173556089401, 0.03571290150284767, 0.04050380364060402, -0.013833613134920597, -0.005943628028035164, 0.008633780293166637, -0.06885447353124619, 0.03531219810247421, -0.03332965448498726, 0.05021800100803375, -0.04493289440870285, -0.024611106142401695, -0.029776547104120255, 0.030963579192757607, -0.0078096771612763405, 0.07222811877727509, 0.020440036430954933, -0.003899708855897188, 0.040431518107652664, 0.03645880147814751, 0.008503831923007965, 0.009059824980795383, -0.06556262820959091, 0.0012684338726103306, 0.06155981868505478, 0.015937943011522293, 0.002270722296088934, -0.13352930545806885, 0.029890544712543488, -0.00039157294668257236, -0.039472248405218124, -0.06406871974468231, 0.006016400642693043, 0.02387119270861149, 0.0006442290614359081, 0.010866070166230202, 0.02020619995892048, -0.028800494968891144, -0.062059711664915085, 0.022216005250811577, 0.018838876858353615, -0.015554087236523628, -0.00841280072927475, -0.047414012253284454, 0.0045080059207975864, -0.04120839387178421, 0.04487248510122299, 0.0034113044384866953, 0.006386794149875641, 0.03131067752838135, -0.026004040613770485, 0.07089318335056305, -0.018474973738193512, -0.023305542767047882, -0.01650930754840374, -0.01137929130345583, 0.014930949546396732, -0.00987979955971241, 0.01004389114677906, 0.01634060963988304, -0.0320095457136631, -0.03118523396551609, -0.026664242148399353, -0.03910785913467407, -0.03120146505534649, 0.04023155942559242, -0.04506103694438934, 0.02274528332054615, -0.03871799260377884, 0.01954587921500206, -0.0062009599059820175, 0.0029622900765389204, -0.023856693878769875, 0.04540230706334114, -0.05707694962620735, -0.05635502561926842, 0.009875580668449402, -0.02558029070496559, -0.01138507854193449, 0.043955959379673004, 0.012061499990522861, -0.0293064396828413, -0.02063130773603916, 0.04521283134818077, -0.03268556296825409, -0.008039227686822414, -0.0374138168990612, -0.007687344215810299, -0.03675634413957596, -0.015741437673568726, -0.01296005304902792, 0.04124008119106293, -0.026672666892409325, 0.03005569986999035, 0.07754673808813095, -0.023793334141373634, 0.0035501341335475445, 0.02132321707904339, 0.02928941510617733, 0.0317453108727932, -0.013123303651809692, 0.051119182258844376, -0.003093548584729433, 0.001368110068142414, 0.020771414041519165, -0.0087353540584445, 0.009293317794799805, 0.025865964591503143, 0.0039025552105158567, -0.02195141464471817, 0.04559465870261192, -0.06222639977931976, 0.0325310118496418, 0.003359675407409668, -0.01574324071407318, 0.028145164251327515, 0.03332937881350517, 0.009438073262572289, -0.03144334629178047, 0.040192484855651855, -0.06111297756433487, -0.024947717785835266, -0.012649210169911385, 0.035031743347644806, 0.011995027773082256, 0.030275069177150726, 0.019877959042787552, 0.015530562959611416, 0.04766501858830452, -0.20251469314098358, 0.007372274994850159, -0.008269177749752998, -0.014213431626558304, 0.039000336080789566, 0.00673201447352767, 0.025448251515626907, -0.01463360246270895, 0.027175992727279663, 0.008663944900035858, 0.045311976224184036, -0.053691379725933075, 0.03025062382221222, -0.057857681065797806, -0.034882351756095886, 0.04240882769227028, 0.007899004966020584, -0.05088363587856293, -0.005986509378999472, 0.02579376846551895, 0.007008721120655537, 0.07581039518117905, -0.03180655837059021, -0.006341130007058382, -0.037980470806360245, -0.01971791312098503, -0.03744862601161003, 0.05387480556964874, 0.004501207731664181, 0.023183124139904976, 0.02830352447926998, 0.008239958435297012, 0.011118964292109013, -0.0008412559982389212, -0.026987815275788307, -0.01657394878566265, -0.03132937103509903, 0.03913368657231331, -0.10172057896852493, 0.06099454313516617, -0.014766084961593151, -0.03478875756263733, -0.05274675786495209, -0.01145001221448183, -0.005531173199415207, 0.054157473146915436, 0.027857044711709023, 0.01989058405160904, -0.0007716494728811085, -0.00287151918746531, 0.006041468121111393, -0.0021576008293777704, -0.06138646602630615, 0.008806955069303513, -0.017841635271906853, 0.026207834482192993, 0.03093789517879486, 0.03990134224295616, 0.0326535739004612, -0.008407743647694588, 0.0012654095189645886, 0.03451167047023773, -0.06382287293672562, 0.006483456119894981, 0.001527273328974843, 0.005717187654227018, 0.014737020246684551, -0.03135394677519798, -0.0367041751742363, 0.0008600522996857762, 0.02944938652217388, -0.029784830287098885, -0.03904123604297638, 0.030518407002091408, 0.03009708784520626, -0.030341388657689095, 0.0007915827445685863, 0.009195143356919289, -0.04685324430465698, 0.03482258319854736, -0.0564831979572773, -0.08699328452348709, -0.026987068355083466, 0.009372043423354626, -0.02466316893696785, -0.021990306675434113, -0.0017925560241565108, -0.020712727680802345, 0.023289049044251442, 0.014788419008255005, -0.03888973221182823, 0.030309367924928665, 0.008454016409814358, 0.011058062314987183, 0.017884427681565285, -0.007029679603874683, -0.06910063326358795, 0.028183959424495697, 0.01676747016608715, -0.01768258400261402, 0.04022388160228729, -0.027345707640051842, -0.01169042568653822, 0.07372628897428513, 0.03790993615984917, -0.017133885994553566, -0.06273405998945236, 0.04589458927512169, -0.02430453896522522, -0.012626701965928078, 0.030038800090551376, 0.04893353953957558, 0.025736739858984947, -0.028201866894960403, 0.009933344088494778, -0.02394731715321541, 0.011320356279611588, -0.0032597093377262354, -0.029053328558802605, -0.037168554961681366, -0.022814791649580002, -0.022467421367764473, 0.029348257929086685, -0.015716440975666046, 0.0456358827650547, 0.0020017835777252913, -0.012023433111608028, 0.01098870113492012, -0.005387771874666214, 0.02353273704648018, -0.029496973380446434, -0.07400190085172653, 0.018625708296895027, -0.0022990719880908728, -0.0352930910885334, -0.00013623321137856692, 0.014450243674218655, -0.004194128792732954, 0.033056002110242844, 0.01112222671508789, 0.07582147419452667, -0.07719870656728745, -0.000334910029778257, 0.03936707600951195, -0.013768605887889862, -0.015099892392754555, -0.005815131589770317, -0.018783334642648697, -0.01764090731739998, -0.0006017430569045246, -0.03819623962044716, -0.10025657713413239, 0.0064175124280154705, -0.02017713151872158, -0.023618202656507492, 0.046583060175180435, 0.04386521503329277, 0.016336718574166298, -0.005857470445334911, 0.0227977205067873, -0.028102757409214973, -0.04392657428979874, 0.029116487130522728, 0.013931347988545895, 9.012583905132487e-05, -0.008360333740711212, -0.03126257658004761, 0.004771888256072998, -0.000889878545422107, 0.028068633750081062, -0.04012025520205498, -0.010241832584142685, 0.011484519578516483, -0.03795628994703293, 0.009723300114274025, 0.0054765669628977776, 0.12036435306072235, -0.010560782626271248, -0.051909804344177246, 0.03585588186979294]}),\n",
       " _DocumentWithState(page_content='aplicación de la Autoridad de Registro, el motivo de la revocación y la misma será \\nautorizada por el Responsable Legal de ENCODE S.A.  \\nc) El suscriptor firma la copia de la documentación que entrega al Oficial de \\nRegistro.', metadata={'page': 30, 'source': '..\\\\data\\\\carpeta2\\\\ENCODE Manual de Procedimientos de Certificacion Publico v1.12.pdf', 'start_index': 2147}, state={'embedded_doc': [0.002711586421355605, 0.00628233328461647, -0.006425959058105946, 0.012093068100512028, 0.04071187227964401, -0.009615225717425346, -0.017293350771069527, -0.04633393883705139, 0.02555193193256855, 0.016114071011543274, -0.01928453892469406, 0.009160681627690792, 0.09154204279184341, 0.009318472817540169, -0.056972943246364594, -0.043486230075359344, 0.014219940640032291, -0.022101927548646927, 0.025152472779154778, 0.004069451708346605, 0.04428057000041008, -0.051909707486629486, 0.04034649208188057, -0.02871185541152954, 0.017451103776693344, -0.024161553010344505, 0.003756732912734151, 0.06108884513378143, -0.04148441553115845, 0.05549519509077072, 0.024822454899549484, -0.02520762011408806, 0.04733537882566452, -0.006891382858157158, 0.04356289654970169, 0.07225088030099869, -0.046365268528461456, -0.012972229160368443, 0.03263803571462631, 0.04221470654010773, 0.03453218564391136, 0.022497251629829407, 0.03356035053730011, -0.010051843710243702, 2.9137318051652983e-05, -0.029072856530547142, 0.039087679237127304, 0.028356501832604408, -0.02068394422531128, -0.03112286515533924, 0.029978929087519646, -0.0006662817322649062, 0.0238382238894701, 0.028536904603242874, -0.0421915166079998, -0.02928868867456913, 0.01800506003201008, 0.060072578489780426, -0.02653914876282215, 0.01160034816712141, -0.0077165160328149796, 0.04933900013566017, -0.05924715846776962, 0.007993444800376892, 0.03801115229725838, -0.022233255207538605, -0.0006020647706463933, 0.004275242332369089, -0.008984837681055069, -0.031163087114691734, -0.021386226639151573, -0.02586817927658558, 0.09055183827877045, 0.01671198196709156, -0.025782784447073936, -0.022800398990511894, -0.043469011783599854, 0.02355441451072693, -0.006183470133692026, -0.011034105904400349, 0.03170447796583176, 0.03354165330529213, 0.005790282506495714, 0.002215989865362644, 0.01370025984942913, -0.02894723229110241, -0.0017970212502405047, 0.03177472576498985, 0.04549948126077652, 0.006610328797250986, 0.032189685851335526, -0.05869751051068306, -0.057518359273672104, 0.014691872522234917, 0.011756437830626965, 0.03186722844839096, 0.030316520482301712, 0.013698779977858067, 0.04346027225255966, -0.06001796945929527, -0.0027546666096895933, -0.055809568613767624, -0.026086807250976562, -0.08066289126873016, -0.060083597898483276, -0.012742144986987114, -0.019156564027071, -0.05258176475763321, 0.042819760739803314, 0.0017069341847673059, -0.030435824766755104, 0.02139977551996708, 0.02455941215157509, -0.05745258554816246, 0.026620488613843918, 0.0020113897044211626, 0.04204898700118065, -0.032565001398324966, 0.020250104367733, -0.03653856739401817, 0.014833188615739346, 0.019278259947896004, -0.03093993291258812, -0.008367825299501419, 0.030615417286753654, -0.022136185318231583, 0.003035835223272443, -0.04013153538107872, 0.025221005082130432, -0.023753603920340538, -0.004946697968989611, -0.07033802568912506, 0.007268831133842468, 0.015127941034734249, -0.023084212094545364, 0.02716177888214588, 0.005941338371485472, 0.026350222527980804, -0.005071013700217009, -0.01278901007026434, 0.028333842754364014, -0.04430462047457695, -0.01374353189021349, 0.04087257757782936, 0.04219314455986023, -0.07138635218143463, 0.0033316942863166332, 0.023868540301918983, -0.026783574372529984, 0.01562447939068079, 0.024001842364668846, -0.011563366279006004, -0.007783104199916124, -0.036841195076704025, 0.025602668523788452, 0.010405558161437511, -0.017985781654715538, -0.01344178058207035, -0.020076606422662735, 0.0263974592089653, 0.03938258811831474, 0.051029402762651443, 0.011743918992578983, -0.047743573784828186, 0.05399345979094505, -0.02322140522301197, 0.028525792062282562, 0.025154393166303635, -0.03646435961127281, -0.016070913523435593, -0.002687229309231043, -0.026443123817443848, -0.06901001930236816, 0.03054061159491539, 0.022262541577219963, -0.026024531573057175, -0.04132813587784767, -0.05062739551067352, 0.022623730823397636, -0.05159807205200195, -0.02231403812766075, -0.059972722083330154, -0.03400338068604469, 0.026200780645012856, -0.013029041700065136, -0.023373138159513474, -0.020449470728635788, -0.01835067756474018, 0.046452030539512634, -0.031373076140880585, -0.01950008235871792, 0.06834062933921814, 0.020302603021264076, 0.03282175585627556, 0.043192051351070404, 0.009634166955947876, 0.051123857498168945, -0.0043663885444402695, -0.034570880234241486, -0.03769604116678238, 0.03158768266439438, -0.012059280648827553, 0.07470656931400299, 0.04469478130340576, 0.005603063851594925, -0.053581107407808304, 0.03138935565948486, 0.060055915266275406, 0.01699434220790863, 0.016969485208392143, -0.011754916049540043, 0.043187808245420456, -0.03910496458411217, -0.002868151757866144, 0.00521121034398675, -0.052156057208776474, 0.0008301928173750639, 0.029399290680885315, -0.045417334884405136, 0.03709341585636139, 0.03526660427451134, -0.05323683097958565, 0.08155674487352371, 0.01626250520348549, -0.024542581290006638, 0.04325961694121361, 0.0004973815521225333, -0.027690470218658447, 0.029886581003665924, 0.05795932188630104, 0.033064138144254684, 0.04381553456187248, -0.028183117508888245, 0.048666782677173615, -0.05697507783770561, -0.029560323804616928, 0.0791550800204277, 0.004067032132297754, -0.03333037719130516, -0.11380232870578766, -0.015203830786049366, -0.008542889729142189, 0.007360481191426516, -0.028942633420228958, 0.03892872482538223, -0.024861041456460953, -0.030579160898923874, 0.039857398718595505, -0.0613890066742897, 0.017938822507858276, 0.020303282886743546, -0.042281556874513626, 0.016285793855786324, -0.004905090667307377, 0.02266511879861355, 0.04990456998348236, -0.05107472464442253, 0.015468265861272812, 0.01591065153479576, -0.0010562315583229065, -0.001802574610337615, -0.044093769043684006, -0.017980264499783516, -0.024908725172281265, 0.0029472934547811747, -0.03880685940384865, 0.06061900779604912, -0.026199672371149063, -0.027838077396154404, -0.030656592920422554, -0.030466197058558464, 0.027517901733517647, -0.03048645332455635, 0.026383835822343826, 0.00978779699653387, -0.04097217693924904, -0.009756717830896378, -0.002606247551739216, -0.016087641939520836, -0.034541141241788864, -0.03517869859933853, 0.05002047121524811, -0.06900801509618759, -0.002000486245378852, -0.04226081818342209, 0.00856711994856596, -0.04757688567042351, 0.02073485217988491, -0.06708025932312012, 0.010232794098556042, 0.01935405842959881, 0.10732690989971161, 0.009386465884745121, 0.002452651970088482, 0.045140478760004044, 0.025768131017684937, 0.012340089306235313, 0.03801775723695755, 0.008155004121363163, -0.0002035187790170312, -0.02193172089755535, -0.04020290821790695, 0.026739109307527542, -0.0606495700776577, -0.014145486988127232, 0.021839821711182594, 0.09424154460430145, 0.005304497200995684, -0.07692978531122208, 0.06065163016319275, -0.05377214401960373, -0.024065911769866943, -0.011406630277633667, 0.02688826061785221, 0.008681900799274445, -0.05780239775776863, 0.019040122628211975, 0.06901685893535614, 0.02188991941511631, -0.00211026007309556, 0.013275300152599812, 0.018929781392216682, -0.0071180351078510284, -0.006567060947418213, 0.040373850613832474, 0.0005860461387783289, 0.03318063169717789, -0.009725325740873814, 0.07180242985486984, -0.0026686808560043573, -0.035477325320243835, 0.030198995023965836, -0.05205893889069557, 0.030458936467766762, -0.10167738050222397, 0.012564931996166706, -0.027382681146264076, -0.05080276355147362, 0.0560593456029892, 0.03235243633389473, -0.048892948776483536, 0.050413135439157486, 0.04389094188809395, -0.025451987981796265, 0.06494013220071793, -0.06338465213775635, -0.009095346555113792, -0.014236906543374062, -0.031836628913879395, 0.027126412838697433, 0.04487136751413345, -0.06336965411901474, 0.03195580840110779, -0.05261866748332977, -0.0024126353673636913, 0.0021639252081513405, 0.014414731413125992, -0.03832147270441055, -0.05015791207551956, -0.04484514147043228, -0.013324775733053684, 0.02879536710679531, 0.019413026049733162, -0.01451950240880251, 0.023342574015259743, 0.03149797394871712, -0.01775253936648369, -0.01496390625834465, 0.03088836371898651, -0.03180593624711037, 0.10101725161075592, 0.03632079437375069, -0.0033608251251280308, -0.023084674030542374, 0.01669134385883808, -0.009490958414971828, 0.021290764212608337, -0.018456684425473213, 0.007608489133417606, -0.005911964923143387, 0.039754461497068405, 0.047510433942079544, 0.029790524393320084, -0.019015168771147728, -0.023463856428861618, -0.0019961653742939234, 0.0380401685833931, -0.05841875821352005, 0.05672138184309006, -0.012403931468725204, 0.048388853669166565, -0.017955610528588295, -0.05199957638978958, 0.028733113780617714, 0.04678191617131233, 0.005284774582833052, 0.003163136774674058, -0.0039216820150613785, 0.03645183891057968, -0.021231137216091156, 0.06285696476697922, 0.051778584718704224, 0.015361614525318146, 0.034957531839609146, 0.014839008450508118, 0.037497445940971375, -0.010397258214652538, 0.04264063015580177, -0.00734125217422843, -0.04426172748208046, 0.07307498157024384, -0.004974148236215115, 0.030744416639208794, -0.021787995472550392, -0.009867249056696892, -0.008111094124615192, -0.026134539395570755, 0.030257390812039375, 0.006753937806934118, 0.02673730067908764, -0.022706646472215652, 0.03277052566409111, 0.020702216774225235, 0.03306072577834129, 0.012474297545850277, -0.08166073262691498, -0.027515558525919914, -0.04088972881436348, 0.029034724459052086, -0.042327746748924255, 0.005282061640173197, -0.0018526464700698853, -0.012886527925729752, 0.011296983808279037, 0.010095261037349701, -0.044561900198459625, 0.004191162995994091, 0.015412824228405952, -0.02533174678683281, -0.019099444150924683, 0.027495337650179863, 0.0013252552598714828, 0.02176867611706257, -0.027210913598537445, -0.0033234257716685534, -0.04833589494228363, -0.025667080655694008, 0.0019757223781198263, -0.023838624358177185, -0.048671040683984756, 0.023405781015753746, 0.003749021328985691, 0.0073876469396054745, 0.0004219344409648329, 0.01192780677229166, -0.03218167647719383, 0.04495339095592499, 0.0028736398089677095, -0.002295776968821883, -0.12432931363582611, 0.02823072299361229, 0.05633184686303139, -0.03657951578497887, 0.035169120877981186, -0.006256469991058111, -0.07211465388536453, 0.039737872779369354, -0.018510039895772934, 0.03663130849599838, -0.016691237688064575, -0.019662367179989815, -0.021620549261569977, 0.02452869527041912, -0.010427922941744328, 0.06192190200090408, 0.009234779514372349, -0.010359330102801323, 0.014308088459074497, 0.04319843649864197, -0.018630024045705795, 0.005099032539874315, -0.04413913935422897, 0.014355410821735859, 0.04531433433294296, 0.01663973182439804, 0.01732657477259636, -0.12736479938030243, 0.042770251631736755, 0.02814723737537861, -0.021977953612804413, -0.026168493553996086, 0.048233188688755035, -0.012713590636849403, 0.022400636225938797, 0.004387555178254843, 0.02283240295946598, -0.04852893948554993, -0.028702134266495705, 0.0010137477656826377, 0.014544829726219177, 0.00544328847900033, -0.02099587954580784, -0.053539715707302094, 0.0038995626382529736, -0.036934882402420044, 0.017558738589286804, -0.009469686076045036, 0.026528149843215942, 0.008773421868681908, -0.01646319404244423, 0.04989155754446983, -0.045912981033325195, 0.0013537445338442922, -0.0274411179125309, -0.019676556810736656, 0.0025985315442085266, -0.010447004809975624, 0.0048096501268446445, 0.015815414488315582, -0.017482440918684006, -0.03593027591705322, -0.028173591941595078, -0.04641230031847954, -0.03593570366501808, 0.035778868943452835, -0.050373196601867676, 0.031444016844034195, -0.04801836982369423, 0.05156831070780754, -0.038651470094919205, 0.010918155312538147, -0.04636126011610031, 0.03269471600651741, -0.058944221585989, -0.04237985610961914, -0.0066911606118083, -0.01182690728455782, -0.01700780540704727, 0.045055948197841644, 0.010364322923123837, 0.006043791770935059, -0.013610761612653732, 0.01946486346423626, -0.05207575112581253, -0.020786326378583908, -0.013365800492465496, 0.010989448055624962, -0.030767207965254784, 0.009832561016082764, -0.003279291559010744, 0.032484691590070724, -0.0254458487033844, 0.007005773019045591, 0.08031658828258514, -0.01969139650464058, 0.037607841193675995, 0.02337932027876377, 0.019119488075375557, 0.03904725983738899, -0.027380220592021942, 0.03595192730426788, -0.014725964516401291, 0.006320931948721409, 0.04645831882953644, 0.001977980835363269, 0.010645676404237747, 0.01540145929902792, 0.004294986370950937, -0.015409056097269058, 0.04029199108481407, -0.06704476475715637, 0.02128535881638527, 0.02981051430106163, -0.03364372253417969, 0.051305465400218964, 0.02399631030857563, -0.005703499540686607, -0.047919563949108124, 0.04638560861349106, -0.08322028815746307, -0.0653189942240715, -0.0222755316644907, 0.01578151248395443, 0.0217079296708107, 0.05330807715654373, 0.009550400078296661, 0.03180667757987976, 0.04174215346574783, -0.20406660437583923, 0.01078080851584673, -0.01238818559795618, 0.003186042420566082, 0.03063490428030491, 0.0045146881602704525, 0.02259174920618534, -0.012259626761078835, 0.02713100239634514, 0.0301186665892601, 0.04935543239116669, -0.0507960207760334, 0.04023556783795357, -0.060484904795885086, -0.044220659881830215, 0.008401085622608662, -0.007020996417850256, -0.05572707578539848, 0.021014563739299774, 0.016467619687318802, -0.009198015555739403, 0.05986813083291054, -0.05448904633522034, 0.018867051228880882, -0.019456209614872932, -0.03919753432273865, -0.015587813220918179, 0.05383290722966194, 0.021582260727882385, 0.03367016091942787, 0.03066835179924965, -0.030890457332134247, 0.00034312799107283354, 0.03700591251254082, -0.046927955001592636, -0.00198163790628314, -0.023053504526615143, 0.034567054361104965, -0.1015477254986763, 0.08332154899835587, 0.00258890469558537, -0.05240020900964737, -0.06325215846300125, -0.019878661260008812, 0.011297810822725296, 0.06788815557956696, 0.06516504287719727, 0.03349676728248596, -0.022396987304091454, -0.014004622586071491, 0.021601686254143715, 0.011175393126904964, -0.07270488142967224, 0.011825157329440117, -0.03147227317094803, 0.02880173735320568, 0.02004319429397583, 0.028112562373280525, 0.04774114117026329, 0.0076558650471270084, -0.0007461188943125308, 0.040661461651325226, -0.049165189266204834, 0.03139648586511612, -0.025667008012533188, -5.099828922539018e-05, 0.03057459183037281, -0.012802967801690102, -0.04892982915043831, 0.022795788943767548, 0.03680557385087013, -0.03379610925912857, -0.06186593323945999, -0.0008175913826562464, 0.03073158673942089, -0.028536517173051834, 0.017875635996460915, -0.008807355538010597, -0.04229707270860672, 0.02660895325243473, -0.06131122261285782, -0.07684959471225739, -0.029833784326910973, 0.01630488410592079, -0.004727347753942013, -0.019880861043930054, -0.01072774175554514, -0.00433126837015152, 0.020912447944283485, 0.017225682735443115, -0.04260943830013275, 0.020528189837932587, 0.007318878546357155, 0.001491206232458353, 0.018843749538064003, -0.01652209646999836, -0.0183097030967474, 0.0361052006483078, 0.029289819300174713, -0.03541242331266403, 0.01301455870270729, -0.011463467963039875, -0.03678923100233078, 0.06860194355249405, 0.032504014670848846, -0.014248439110815525, -0.08812683075666428, 0.06094904616475105, -0.023514125496149063, -0.002634492004290223, 0.01741061918437481, 0.03611179441213608, 0.02087833359837532, -0.011108492501080036, 0.006551327183842659, -0.02715533785521984, 0.0016034414293244481, 0.021606937050819397, -0.043524764478206635, -0.030990326777100563, -0.040880437940359116, -0.010099368169903755, 0.06308293342590332, -0.004985683597624302, 0.03497174754738808, -0.00746154272928834, -0.0025714589282870293, 0.026403428986668587, 0.018900835886597633, 0.031636569648981094, -0.03018258325755596, -0.04516826197504997, 0.019044233486056328, -0.005946175195276737, -0.04706798866391182, -0.01139772031456232, 0.020501932129263878, -0.0002809239085763693, 0.033920783549547195, 0.014018877409398556, 0.05204953998327255, -0.07490924745798111, -0.009119129739701748, 0.03982388600707054, -0.003234752919524908, -0.020183667540550232, 0.013194953091442585, -0.03890146315097809, -0.018332384526729584, 0.008327550254762173, -0.00802586879581213, -0.0860869437456131, -0.006425709463655949, -0.01714707538485527, -0.026903986930847168, 0.04708346724510193, 0.030417311936616898, 0.019445134326815605, -0.005937427747994661, 0.057560935616493225, -0.024287717416882515, -0.04320133849978447, 0.015471435151994228, 0.01418196689337492, 0.005799532867968082, 0.0021558154840022326, -0.00878943968564272, -0.01138593815267086, 0.019392486661672592, 0.0381261482834816, -0.019987531006336212, 0.010196604765951633, -0.007088460959494114, -0.027527786791324615, 0.024297405034303665, 0.012769217602908611, 0.07741045206785202, -0.045513611286878586, -0.046065568923950195, 0.01883731223642826]}),\n",
       " _DocumentWithState(page_content='https://www.boletinoficial.gob.ar/#!DetalleNorma/268174/20220808\\n \\n 3 de 3\\n \\n \\n inicio de trámite respecto de la renovación de las licencias para los Certificadores Licenciados.\\nQue, bajo este esquema normativo y en función de lo expuesto, ENCODE S.A. ha cumplido con todos los recaudos', metadata={'page': 2, 'source': '..\\\\data\\\\carpeta3\\\\renovacion-de-la-licencia-del-certificador-licenciado-encodesa.pdf', 'start_index': 0}, state={'embedded_doc': [-6.160281191114336e-05, 0.0344240702688694, -0.0024438006803393364, 0.019484182819724083, 0.0380961038172245, -0.02492636628448963, -0.012996578589081764, -0.06421328336000443, 0.015791408717632294, 0.017700402066111565, -0.018130863085389137, 0.007800324819982052, 0.08733055740594864, 0.05318524315953255, -0.047032542526721954, -0.02279212884604931, 0.04200039431452751, -0.022216269746422768, 0.05304471775889397, -0.0018612780841067433, 0.05352887138724327, -0.0211222842335701, 0.06318774074316025, -0.03940449655056, 0.049961674958467484, -0.007153528742492199, -0.01056264154613018, 0.06390507519245148, -0.00924289133399725, 0.03633629158139229, 0.021097250282764435, -0.013559753075242043, 0.00987918395549059, 0.020002711564302444, 0.02355671487748623, 0.06016357243061066, -0.03975945711135864, -0.04728596657514572, 0.02960500679910183, 0.017786646261811256, 0.026316964998841286, 0.04143400862812996, 0.001912217354401946, -0.01383655983954668, 0.002811320358887315, -0.020332157611846924, 0.030864275991916656, 0.025832293555140495, -0.026161545887589455, -0.0259841438382864, 0.02497938461601734, -0.005632949527353048, 0.05092223361134529, 0.01566743291914463, -0.019701223820447922, 0.01677859015762806, 0.0011371702421456575, 0.07466742396354675, -0.026570919901132584, 0.030725235119462013, -0.015563803724944592, 0.050420742481946945, -0.05093229562044144, 0.019516168162226677, 0.038046665489673615, -0.0383642315864563, -0.0018621007911860943, 0.0034947439562529325, -0.007345166057348251, -0.03629199042916298, 0.001902283518575132, -0.02340427227318287, 0.09987203776836395, -0.023582547903060913, -0.03524685278534889, -0.0154400784522295, -0.05869147554039955, 0.008607449941337109, -0.010425630956888199, -0.024281350895762444, 0.0353156216442585, 0.031249018386006355, 0.017232362180948257, 0.047515641897916794, 0.0078104157000780106, -0.04113868996500969, -0.023310355842113495, 0.0399298295378685, 0.042172662913799286, 0.014191127382218838, 0.02693711221218109, -0.04144821688532829, -0.052997417747974396, 0.00015777163207530975, 0.0025104116648435593, 0.02279663272202015, 0.02089499682188034, -4.290151264285669e-05, 0.04102836176753044, -0.08479354530572891, -0.0061696493066847324, -0.06499498337507248, -0.028748013079166412, -0.08680716156959534, -0.08468165248632431, 0.012022160924971104, -0.01838272623717785, -0.027467485517263412, 0.0333557054400444, -0.015282130800187588, -0.04034630209207535, 0.05755982920527458, 0.03551727160811424, -0.06018681451678276, 0.025759486481547356, -0.0048999423161149025, 0.028300078585743904, -0.006719561759382486, 0.024273063987493515, -0.06863801926374435, 0.019177690148353577, 0.029711013659834862, -0.02952028065919876, -0.038517117500305176, 0.04824403300881386, -0.020439187064766884, 0.0004077801713719964, -0.04100065305829048, 0.02799026481807232, -0.06065218523144722, -0.010986820794641972, -0.040692634880542755, -0.032413315027952194, -0.0018349381862208247, -0.01520414836704731, 0.06233838573098183, 0.02126372791826725, 0.012455521151423454, -0.018588606268167496, -0.035326436161994934, 0.01625681482255459, -0.0683787614107132, -0.01797284558415413, -0.006689624860882759, 0.043193619698286057, -0.07701669633388519, 0.022093700245022774, 0.009466183371841908, -0.028134746477007866, 0.03167222812771797, 0.03848346322774887, -0.01800009049475193, -0.023014632984995842, -0.02051256038248539, 0.045730747282505035, -0.0006221367511898279, -0.0162979606539011, -0.015256121754646301, -0.03051851876080036, 0.010194064117968082, 0.03802153468132019, 0.04188060387969017, 0.01985991559922695, -0.03159124031662941, 0.04594386741518974, -0.022652940824627876, -0.004107305780053139, 0.04344557970762253, -0.03886709734797478, -0.016885904595255852, -0.028358254581689835, -0.03005051426589489, -0.05925314873456955, 0.039675552397966385, 0.014477908611297607, -0.013761424459517002, -0.04380723461508751, -0.057019516825675964, 0.013848585076630116, -0.046209294348955154, -0.04992102459073067, -0.008902367204427719, -0.011419950984418392, 0.02789943665266037, -0.01467700395733118, -0.03133968263864517, -0.025349043309688568, -0.02590719424188137, 0.04090864956378937, -0.012490714900195599, 0.0009783444693312049, 0.058879777789115906, 0.01723823882639408, 0.022672588005661964, 0.025412730872631073, 0.003725722199305892, 0.05824362486600876, 0.006224352866411209, -0.02830968238413334, -0.034217704087495804, 0.04596594721078873, -0.018006853759288788, 0.048788391053676605, 0.023707417771220207, 0.00923441257327795, -0.07501788437366486, -0.0029028893914073706, 0.05119893699884415, 0.023173442110419273, 0.019311832264065742, 0.001868583494797349, 0.03473863750696182, -0.03976269066333771, 0.022367559373378754, -0.006502436473965645, -0.05637243762612343, 0.00408412329852581, -0.004617110826075077, -0.006542225833982229, 0.027698518708348274, 0.029820000752806664, -0.05715474858880043, 0.05860375985503197, 0.014787718653678894, -0.01616058126091957, 0.004648636560887098, 0.014791913330554962, -0.027304723858833313, 0.008999104611575603, 0.06400081515312195, 0.03654388338327408, 0.04364980757236481, -0.04181622341275215, 0.03838566690683365, -0.03297844156622887, -0.01786496862769127, 0.05639507621526718, -0.0007197984377853572, -0.014662331901490688, -0.13216090202331543, 0.0025425555650144815, -0.00725846691057086, 0.023276379331946373, -0.024376729503273964, 0.016715357080101967, -0.009710948914289474, -0.009788340888917446, 0.032316360622644424, -0.1007191613316536, 0.022883500903844833, 0.01889975182712078, -0.05682697519659996, 0.013118131086230278, -0.03432784602046013, 0.04424908757209778, 0.058173391968011856, -0.04739413410425186, 0.0314534567296505, 0.04356376826763153, -0.014352194033563137, -0.007947061210870743, -0.05335498973727226, -0.0008803760865703225, -0.05393993481993675, -0.013182289898395538, -0.05562680959701538, 0.048623498529195786, -0.0145442308858037, -0.0036283652298152447, -0.0007871943525969982, -0.018605036661028862, -0.0044858925975859165, -0.04783230647444725, 0.05204204097390175, 0.02070745639503002, -0.03181864693760872, -0.040009912103414536, -0.01001038495451212, -0.027809973806142807, -0.030479926615953445, -0.03744366392493248, 0.04009808972477913, -0.04983864724636078, -0.04279286786913872, -0.039749640971422195, 0.010606070049107075, -0.05679958313703537, -0.008277731947600842, -0.05190114676952362, 0.014616595581173897, 0.041464198380708694, 0.09948335587978363, 0.0019009988754987717, 0.006130646448582411, 0.024759581312537193, 0.009601118974387646, 0.03906873241066933, -0.0070989858359098434, 0.006846288684755564, -0.037648577243089676, -0.005279988516122103, -0.036858249455690384, 0.027229884639382362, -0.04991501197218895, -0.009725399315357208, 0.03250615671277046, 0.10186909139156342, 0.020294491201639175, -0.07876365631818771, 0.07491376996040344, -0.0546034500002861, -0.00626367749646306, 0.020635660737752914, 0.035542070865631104, 0.033873990178108215, -0.006308763287961483, 0.007248310837894678, 0.05616040900349617, 0.01849840208888054, 0.009921004064381123, 0.0005278835888020694, 0.019417276605963707, -0.03231143206357956, -0.02509138733148575, 0.039384569972753525, 0.002745937556028366, 0.0026245671324431896, -0.014837258495390415, 0.05677144601941109, 0.0006602169014513493, -0.026522979140281677, 0.05510161072015762, -0.03132382780313492, 0.03448852524161339, -0.11170084774494171, 0.008857879787683487, -0.04336381331086159, -0.05144073814153671, 0.055535804480314255, 0.0234029833227396, -0.025361772626638412, 0.06574350595474243, 0.0289069265127182, -0.027684491127729416, 0.05539783462882042, -0.05770091712474823, -0.01286845002323389, -0.03621430695056915, -0.0634915679693222, 0.035805728286504745, 0.04530953988432884, -0.091766856610775, 0.05664418265223503, -0.033994611352682114, -0.014151029288768768, 0.003836829913780093, 0.024315930902957916, -0.039149295538663864, -0.03552965074777603, -0.041770949959754944, -0.05155293270945549, 0.0381154827773571, -0.00480276346206665, -0.0024934131652116776, 0.0140007883310318, 0.011365314014256, -0.03597414866089821, 0.01101760845631361, 0.021323762834072113, -0.02608896791934967, 0.07937280833721161, 0.03574173152446747, -0.008668561466038227, 0.005837365053594112, 0.04646250978112221, -0.0025924351066350937, 0.06218666210770607, -0.01080208458006382, -0.001820469624362886, 0.0018667802214622498, 0.08237851411104202, 0.036055199801921844, 0.017252542078495026, 0.030070969834923744, -0.03187790885567665, 0.021095750853419304, 0.025265265256166458, -0.027469217777252197, 0.07405021786689758, -0.01954350620508194, 0.03715129569172859, -0.011002540588378906, -0.03077932633459568, 0.043149422854185104, 0.03553587570786476, -0.000200815120479092, 0.0070978933945298195, -0.0014406474074348807, 0.042386241257190704, -0.030327213928103447, 0.02838202565908432, 0.0221218504011631, 0.009071198292076588, 0.043413881212472916, 0.008549838326871395, 0.04600507766008377, 0.0018459938000887632, 0.04558276757597923, -0.011951608583331108, -0.014644221402704716, 0.061363641172647476, -0.000984076177701354, 0.04444274306297302, 0.0038851452991366386, -0.0017308981623500586, -0.004377878736704588, -0.011018126271665096, 0.0045670256949961185, -0.004752485081553459, 0.04300994798541069, -0.035053566098213196, 0.059542812407016754, 0.013294479809701443, 0.025453146547079086, 0.022038940340280533, -0.08900733292102814, -0.008177313022315502, -0.014058121480047703, 0.02711554616689682, -0.031798090785741806, -0.03243813291192055, 0.023592663928866386, 0.013431551866233349, -0.01591474749147892, 0.005387883633375168, -0.057496387511491776, 0.018218018114566803, 0.016520541161298752, -0.018949495628476143, 0.011267530731856823, 0.03323962166905403, 0.010940206237137318, 0.006415346637368202, -0.01787182129919529, -0.030613014474511147, -0.046521514654159546, -0.05643296241760254, 0.02222113311290741, -0.012408233247697353, -0.016688117757439613, 0.03428594395518303, 0.03179806470870972, 0.013988538645207882, -0.0005490530747920275, 0.01703380048274994, -0.027231313288211823, 0.007552501745522022, 0.006542718503624201, 0.01137689221650362, -0.12828899919986725, 0.035598717629909515, 0.05011601373553276, -0.01879294589161873, 0.01145830750465393, 0.012789374217391014, -0.06979361176490784, 0.030930187553167343, -0.06328506022691727, 0.03954785689711571, -0.03984219953417778, -0.01629837416112423, -0.02714504860341549, 0.04132609814405441, 0.023661291226744652, 0.04451884329319, 0.0258419681340456, 0.005799757316708565, 0.005382728762924671, 0.04112103953957558, -0.009083161130547523, 0.02159758098423481, -0.025692526251077652, -0.0008518242975696921, 0.037275414913892746, 0.023223532363772392, 0.018038295209407806, -0.12631648778915405, 0.0376725047826767, 0.018139759078621864, -0.027651522308588028, -0.02701287902891636, 0.0315549336373806, -0.004466674756258726, 0.00610188627615571, -0.0033147032372653484, 0.04604669660329819, -0.022144196555018425, -0.05307263508439064, 0.034148357808589935, 0.03348139300942421, -0.03425239771604538, -0.005122925620526075, -0.06419165432453156, 0.0008436814532615244, -0.03247569873929024, 0.034684836864471436, -0.008784576319158077, 0.022393759340047836, 0.024520810693502426, -0.028486354276537895, 0.07289763540029526, -0.04239439591765404, -0.021021917462348938, -0.014996224083006382, -0.010004636831581593, 0.017776383087038994, -0.023316357284784317, -0.002868363168090582, 0.03134859353303909, -0.02560320310294628, -0.03267976641654968, -0.0310856681317091, -0.03153805434703827, -0.03748643770813942, 0.04783472418785095, -0.05308930203318596, 0.024053381755948067, -0.04764197766780853, 0.024138394743204117, 0.004089768975973129, 0.006914576981216669, -0.019944075495004654, 0.035991791635751724, -0.054956402629613876, -0.03948311135172844, 0.02342083863914013, -0.014222067780792713, 0.021325085312128067, 0.07230973988771439, 0.0006040851003490388, 0.002111666603013873, -0.016612747684121132, 0.04459557682275772, -0.02181273326277733, 0.011287464760243893, -0.023010436445474625, 0.0008415632182732224, -0.01900968886911869, -0.016628343611955643, 0.011081378906965256, 0.022226253524422646, -0.030224863439798355, 0.0047732163220644, 0.07387121021747589, -0.016660787165164948, 0.021344313398003578, 0.03756590187549591, 0.028297606855630875, 0.03741022199392319, 0.010497923009097576, 0.032821930944919586, -0.0054395305924117565, -0.01645355112850666, 0.04643895849585533, -0.011898666620254517, 0.006201569456607103, 0.011971774511039257, -0.0007845115032978356, -0.03338170796632767, 0.06069917604327202, -0.047686826437711716, 0.05160976201295853, 0.02184883877635002, -0.022712528705596924, 0.06869177520275116, 0.02204272150993347, -0.036570001393556595, -0.04932694137096405, 0.045405223965644836, -0.051010943949222565, -0.057834576815366745, -0.0018888013437390327, 0.03263261541724205, 0.026077955961227417, 0.043504904955625534, 0.02225882187485695, 0.01857522502541542, 0.05491719767451286, -0.20302347838878632, 0.025682488456368446, -0.02596566267311573, -0.009938021190464497, 0.031204136088490486, 0.01713835448026657, 0.013039868324995041, -0.01566685177385807, 0.01943846233189106, 0.01576533541083336, 0.04979182034730911, -0.046749699860811234, 0.012847689911723137, -0.06597362458705902, -0.009273611940443516, 0.018492653965950012, 0.0014372490113601089, -0.0634140819311142, -0.004804378375411034, 0.017521796748042107, -0.007117013446986675, 0.07032815366983414, -0.023252911865711212, -0.026009541004896164, -0.03212638944387436, -0.03622376173734665, -0.04379842430353165, 0.04629102721810341, 0.029644398018717766, 0.0038842663634568453, 0.032257433980703354, -0.0023024503607302904, -0.006329329684376717, 0.024897171184420586, -0.05042955279350281, -0.025497792288661003, -0.016799326986074448, 0.033496078103780746, -0.09526146203279495, 0.06632235646247864, -0.012997714802622795, -0.0632963553071022, -0.028547991067171097, -0.006348347757011652, -0.002019924111664295, 0.0609634593129158, 0.03627507761120796, 0.007062964141368866, -0.018871432170271873, -0.012133069336414337, 0.04136788100004196, 0.013602138496935368, -0.08078591525554657, -0.026798583567142487, -0.0035367028322070837, 0.015641510486602783, 0.02136731706559658, 0.029631972312927246, 0.03175613284111023, -0.008443125523626804, 0.005054440815001726, 0.02507016994059086, -0.05434530973434448, 0.013831518590450287, -0.009576177224516869, -0.0028308890759944916, 0.024524612352252007, -0.024380650371313095, -0.03488197550177574, -0.0002669217938091606, 0.02147039957344532, -0.009071635082364082, -0.0157949049025774, 0.013299552723765373, 0.015002164989709854, -0.030267585068941116, 0.005821214057505131, 0.015884315595030785, -0.05153624340891838, 0.004698516800999641, -0.05150952935218811, -0.06173967570066452, -0.025600766763091087, 0.0118055809289217, -0.024767335504293442, -0.018995841965079308, -0.02847207896411419, 0.006014711689203978, -4.712477675639093e-05, 0.03367526829242706, -0.04475868493318558, 0.011287885718047619, -0.011092796921730042, -0.010485939681529999, 0.012340748682618141, -0.02382461354136467, -0.040845878422260284, 0.0273191649466753, 0.004527393262833357, -0.03280533850193024, 0.030748266726732254, -0.021841885522007942, -0.005163673777133226, 0.0729558914899826, 0.02223256044089794, -0.041260432451963425, -0.05467553809285164, 0.04242555797100067, -0.041854385286569595, -0.024347564205527306, 0.026332391425967216, 0.04132473096251488, 0.0421639047563076, -0.006066078320145607, 0.015051924623548985, -0.0031139999628067017, -0.012539644725620747, -0.02650059200823307, -0.010551074519753456, -0.02744678594172001, -0.032556671649217606, -0.024524278938770294, 0.04101875424385071, -0.016082925722002983, 0.04073275998234749, -0.01683911681175232, -0.024673666805028915, 0.014766768552362919, -0.005756413098424673, 0.041301123797893524, -0.03109394945204258, -0.0589689239859581, -0.014079329557716846, 0.0020409945864230394, -0.030194785445928574, -0.00016264826990664005, 0.036086615175008774, -0.012082431465387344, 0.026459991931915283, 0.00878873560577631, 0.05813274532556534, -0.0729285329580307, -0.0037837200798094273, 0.02112296223640442, -0.02434227243065834, -0.01066182367503643, -0.035253364592790604, -0.01079551037400961, 0.009600130841135979, 0.00258485134691, -0.002551848068833351, -0.07154551893472672, 0.002132394816726446, -0.01814224384725094, -0.02067842148244381, 0.04463363066315651, 0.029926059767603874, -0.00944196805357933, -0.0037259324453771114, 0.04035484418272972, -0.032665982842445374, -0.04444439336657524, 0.026807477697730064, 0.01467085536569357, 0.003966429736465216, 0.02297055721282959, -0.016481738537549973, 0.0028689405880868435, -0.011669110506772995, 0.030463900417089462, -0.03441513329744339, 0.005268729757517576, 0.01299242489039898, -0.004319207742810249, 0.007212333381175995, -0.007598415017127991, 0.0920606479048729, -0.015826433897018433, -0.041858971118927, 0.02175852842628956]})]"
      ]
     },
     "execution_count": 34,
     "metadata": {},
     "output_type": "execute_result"
    }
   ],
   "source": [
    "compression_retriever.get_relevant_documents(query)"
   ]
  },
  {
   "cell_type": "code",
   "execution_count": 35,
   "metadata": {},
   "outputs": [
    {
     "data": {
      "text/plain": [
       "\" La renovación de la licencia de Encode SA se aprueba por la Resolución Nº 946/2021 de la Secretaria de Innovación Pública.\\n\\n\\nPlease check the following documents for more information: Document #1 :'..\\\\data\\\\carpeta2\\\\ENCODE Manual de Procedimientos de Certificacion Publico v1.12.pdf', pages: 11, 30, Document #1 :'..\\\\data\\\\carpeta3\\\\renovacion-de-la-licencia-del-certificador-licenciado-encodesa.pdf', pages: 1, 2.\""
      ]
     },
     "execution_count": 35,
     "metadata": {},
     "output_type": "execute_result"
    }
   ],
   "source": [
    "a"
   ]
  }
 ],
 "metadata": {
  "kernelspec": {
   "display_name": "openai",
   "language": "python",
   "name": "python3"
  },
  "language_info": {
   "codemirror_mode": {
    "name": "ipython",
    "version": 3
   },
   "file_extension": ".py",
   "mimetype": "text/x-python",
   "name": "python",
   "nbconvert_exporter": "python",
   "pygments_lexer": "ipython3",
   "version": "3.9.18"
  }
 },
 "nbformat": 4,
 "nbformat_minor": 2
}
